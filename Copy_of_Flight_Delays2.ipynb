{
  "nbformat": 4,
  "nbformat_minor": 0,
  "metadata": {
    "colab": {
      "name": "Copy of Flight_Delays2.ipynb",
      "provenance": [],
      "collapsed_sections": [],
      "machine_shape": "hm"
    },
    "kernelspec": {
      "name": "python3",
      "display_name": "Python 3"
    }
  },
  "cells": [
    {
      "cell_type": "markdown",
      "metadata": {
        "id": "N1bOCy2-1xMZ",
        "colab_type": "text"
      },
      "source": [
        "# **I have preprocessed the whole dataset to make it into my desired form and stored in my drive.I am using the stored dataset.**"
      ]
    },
    {
      "cell_type": "code",
      "metadata": {
        "id": "tDmt7wHm72Lm",
        "colab_type": "code",
        "outputId": "1898e2ad-a7d4-41a1-a747-cd77eab50545",
        "colab": {
          "base_uri": "https://localhost:8080/",
          "height": 125
        }
      },
      "source": [
        "from google.colab import drive\n",
        "drive.mount('drive')"
      ],
      "execution_count": 2,
      "outputs": [
        {
          "output_type": "stream",
          "text": [
            "Go to this URL in a browser: https://accounts.google.com/o/oauth2/auth?client_id=947318989803-6bn6qk8qdgf4n4g3pfee6491hc0brc4i.apps.googleusercontent.com&redirect_uri=urn%3aietf%3awg%3aoauth%3a2.0%3aoob&response_type=code&scope=email%20https%3a%2f%2fwww.googleapis.com%2fauth%2fdocs.test%20https%3a%2f%2fwww.googleapis.com%2fauth%2fdrive%20https%3a%2f%2fwww.googleapis.com%2fauth%2fdrive.photos.readonly%20https%3a%2f%2fwww.googleapis.com%2fauth%2fpeopleapi.readonly\n",
            "\n",
            "Enter your authorization code:\n",
            "··········\n",
            "Mounted at drive\n"
          ],
          "name": "stdout"
        }
      ]
    },
    {
      "cell_type": "code",
      "metadata": {
        "id": "SGU55X2C-EiR",
        "colab_type": "code",
        "colab": {}
      },
      "source": [
        "import pandas as pd\n",
        "from sklearn.model_selection import train_test_split\n",
        "import networkx as nx\n",
        "pd.set_option('display.max_rows', 500)\n",
        "pd.set_option('display.max_columns', 500)\n",
        "pd.set_option('display.width', 1000)"
      ],
      "execution_count": 0,
      "outputs": []
    },
    {
      "cell_type": "code",
      "metadata": {
        "id": "BQ7H9yJP-EeV",
        "colab_type": "code",
        "outputId": "f140a162-ee1a-4fc2-bc70-cd14f9f95ecc",
        "colab": {
          "base_uri": "https://localhost:8080/",
          "height": 72
        }
      },
      "source": [
        "import matplotlib.pyplot as plt\n",
        "%matplotlib inline\n",
        "import seaborn as sns\n",
        "\n",
        "from scipy import stats\n",
        "import math"
      ],
      "execution_count": 4,
      "outputs": [
        {
          "output_type": "stream",
          "text": [
            "/usr/local/lib/python3.6/dist-packages/statsmodels/tools/_testing.py:19: FutureWarning: pandas.util.testing is deprecated. Use the functions in the public API at pandas.testing instead.\n",
            "  import pandas.util.testing as tm\n"
          ],
          "name": "stderr"
        }
      ]
    },
    {
      "cell_type": "code",
      "metadata": {
        "id": "ogDSPSHf-Ea5",
        "colab_type": "code",
        "colab": {}
      },
      "source": [
        "import numpy as np\n",
        "\n",
        "from sklearn.preprocessing import scale\n",
        "from sklearn.linear_model import Ridge, RidgeCV, Lasso, LassoCV\n",
        "from sklearn.model_selection import cross_validate\n",
        "from sklearn.metrics import mean_squared_error"
      ],
      "execution_count": 0,
      "outputs": []
    },
    {
      "cell_type": "code",
      "metadata": {
        "id": "UjeYYvaE9TKl",
        "colab_type": "code",
        "outputId": "b5507a7f-7e93-48dc-945d-005c8f4b0254",
        "colab": {
          "base_uri": "https://localhost:8080/",
          "height": 52
        }
      },
      "source": [
        "df_flight=pd.read_csv('/content/drive/My Drive/Dataset/flights2.csv')"
      ],
      "execution_count": 6,
      "outputs": [
        {
          "output_type": "stream",
          "text": [
            "/usr/local/lib/python3.6/dist-packages/IPython/core/interactiveshell.py:2718: DtypeWarning: Columns (6,7) have mixed types.Specify dtype option on import or set low_memory=False.\n",
            "  interactivity=interactivity, compiler=compiler, result=result)\n"
          ],
          "name": "stderr"
        }
      ]
    },
    {
      "cell_type": "code",
      "metadata": {
        "id": "aMQh3zFCNZbU",
        "colab_type": "code",
        "colab": {}
      },
      "source": [
        "airports=pd.read_csv('/content/drive/My Drive/Dataset/airports.csv')"
      ],
      "execution_count": 0,
      "outputs": []
    },
    {
      "cell_type": "code",
      "metadata": {
        "id": "2XNryzYr9TIP",
        "colab_type": "code",
        "outputId": "ae64610f-ff6a-410e-9702-4709c37ab611",
        "colab": {
          "base_uri": "https://localhost:8080/",
          "height": 316
        }
      },
      "source": [
        "df_flight.head()"
      ],
      "execution_count": 8,
      "outputs": [
        {
          "output_type": "execute_result",
          "data": {
            "text/html": [
              "<div>\n",
              "<style scoped>\n",
              "    .dataframe tbody tr th:only-of-type {\n",
              "        vertical-align: middle;\n",
              "    }\n",
              "\n",
              "    .dataframe tbody tr th {\n",
              "        vertical-align: top;\n",
              "    }\n",
              "\n",
              "    .dataframe thead th {\n",
              "        text-align: right;\n",
              "    }\n",
              "</style>\n",
              "<table border=\"1\" class=\"dataframe\">\n",
              "  <thead>\n",
              "    <tr style=\"text-align: right;\">\n",
              "      <th></th>\n",
              "      <th>Unnamed: 0</th>\n",
              "      <th>Date</th>\n",
              "      <th>DAY_OF_WEEK</th>\n",
              "      <th>AIRLINE</th>\n",
              "      <th>FLIGHT_NUMBER</th>\n",
              "      <th>TAIL_NUMBER</th>\n",
              "      <th>ORIGIN_AIRPORT</th>\n",
              "      <th>DESTINATION_AIRPORT</th>\n",
              "      <th>DEPARTURE_DELAY</th>\n",
              "      <th>TAXI_OUT</th>\n",
              "      <th>DISTANCE</th>\n",
              "      <th>TAXI_IN</th>\n",
              "      <th>ARRIVAL_DELAY</th>\n",
              "      <th>CANCELLED</th>\n",
              "      <th>WEATHER_DELAY_NEW</th>\n",
              "      <th>LATE_AIRCRAFT_DELAY_NEW</th>\n",
              "      <th>AIRLINE_DELAY_NEW</th>\n",
              "      <th>SCHEDULED_DEPARTURE</th>\n",
              "      <th>DEPARTURE_TIME</th>\n",
              "      <th>SCHEDULED_ARRIVAL</th>\n",
              "      <th>ARRIVAL_TIME</th>\n",
              "    </tr>\n",
              "  </thead>\n",
              "  <tbody>\n",
              "    <tr>\n",
              "      <th>0</th>\n",
              "      <td>0</td>\n",
              "      <td>2015-01-01</td>\n",
              "      <td>4</td>\n",
              "      <td>AS</td>\n",
              "      <td>98</td>\n",
              "      <td>N407AS</td>\n",
              "      <td>ANC</td>\n",
              "      <td>SEA</td>\n",
              "      <td>-11.0</td>\n",
              "      <td>21.0</td>\n",
              "      <td>1448</td>\n",
              "      <td>4.0</td>\n",
              "      <td>-22.0</td>\n",
              "      <td>0</td>\n",
              "      <td>-3.90</td>\n",
              "      <td>-0.04</td>\n",
              "      <td>12.88</td>\n",
              "      <td>00:05</td>\n",
              "      <td>23:54</td>\n",
              "      <td>04:30</td>\n",
              "      <td>04:08</td>\n",
              "    </tr>\n",
              "    <tr>\n",
              "      <th>1</th>\n",
              "      <td>1</td>\n",
              "      <td>2015-01-01</td>\n",
              "      <td>4</td>\n",
              "      <td>AA</td>\n",
              "      <td>2336</td>\n",
              "      <td>N3KUAA</td>\n",
              "      <td>LAX</td>\n",
              "      <td>PBI</td>\n",
              "      <td>-8.0</td>\n",
              "      <td>12.0</td>\n",
              "      <td>2330</td>\n",
              "      <td>4.0</td>\n",
              "      <td>-9.0</td>\n",
              "      <td>0</td>\n",
              "      <td>-2.80</td>\n",
              "      <td>1.03</td>\n",
              "      <td>12.74</td>\n",
              "      <td>00:10</td>\n",
              "      <td>00:02</td>\n",
              "      <td>07:50</td>\n",
              "      <td>07:41</td>\n",
              "    </tr>\n",
              "    <tr>\n",
              "      <th>2</th>\n",
              "      <td>2</td>\n",
              "      <td>2015-01-01</td>\n",
              "      <td>4</td>\n",
              "      <td>US</td>\n",
              "      <td>840</td>\n",
              "      <td>N171US</td>\n",
              "      <td>SFO</td>\n",
              "      <td>CLT</td>\n",
              "      <td>-2.0</td>\n",
              "      <td>16.0</td>\n",
              "      <td>2296</td>\n",
              "      <td>11.0</td>\n",
              "      <td>5.0</td>\n",
              "      <td>0</td>\n",
              "      <td>-1.63</td>\n",
              "      <td>3.17</td>\n",
              "      <td>12.67</td>\n",
              "      <td>00:20</td>\n",
              "      <td>00:18</td>\n",
              "      <td>08:06</td>\n",
              "      <td>08:11</td>\n",
              "    </tr>\n",
              "    <tr>\n",
              "      <th>3</th>\n",
              "      <td>3</td>\n",
              "      <td>2015-01-01</td>\n",
              "      <td>4</td>\n",
              "      <td>AA</td>\n",
              "      <td>258</td>\n",
              "      <td>N3HYAA</td>\n",
              "      <td>LAX</td>\n",
              "      <td>MIA</td>\n",
              "      <td>-5.0</td>\n",
              "      <td>15.0</td>\n",
              "      <td>2342</td>\n",
              "      <td>8.0</td>\n",
              "      <td>-9.0</td>\n",
              "      <td>0</td>\n",
              "      <td>-2.80</td>\n",
              "      <td>2.10</td>\n",
              "      <td>12.71</td>\n",
              "      <td>00:20</td>\n",
              "      <td>00:15</td>\n",
              "      <td>08:05</td>\n",
              "      <td>07:56</td>\n",
              "    </tr>\n",
              "    <tr>\n",
              "      <th>4</th>\n",
              "      <td>4</td>\n",
              "      <td>2015-01-01</td>\n",
              "      <td>4</td>\n",
              "      <td>AS</td>\n",
              "      <td>135</td>\n",
              "      <td>N527AS</td>\n",
              "      <td>SEA</td>\n",
              "      <td>ANC</td>\n",
              "      <td>-1.0</td>\n",
              "      <td>11.0</td>\n",
              "      <td>1448</td>\n",
              "      <td>5.0</td>\n",
              "      <td>-21.0</td>\n",
              "      <td>0</td>\n",
              "      <td>-3.81</td>\n",
              "      <td>3.53</td>\n",
              "      <td>12.69</td>\n",
              "      <td>00:25</td>\n",
              "      <td>00:24</td>\n",
              "      <td>03:20</td>\n",
              "      <td>02:59</td>\n",
              "    </tr>\n",
              "  </tbody>\n",
              "</table>\n",
              "</div>"
            ],
            "text/plain": [
              "   Unnamed: 0        Date  ...  SCHEDULED_ARRIVAL ARRIVAL_TIME\n",
              "0           0  2015-01-01  ...              04:30        04:08\n",
              "1           1  2015-01-01  ...              07:50        07:41\n",
              "2           2  2015-01-01  ...              08:06        08:11\n",
              "3           3  2015-01-01  ...              08:05        07:56\n",
              "4           4  2015-01-01  ...              03:20        02:59\n",
              "\n",
              "[5 rows x 21 columns]"
            ]
          },
          "metadata": {
            "tags": []
          },
          "execution_count": 8
        }
      ]
    },
    {
      "cell_type": "code",
      "metadata": {
        "id": "RyNWjAgTs5Xe",
        "colab_type": "code",
        "outputId": "37ac7858-b2f0-48be-f24f-4d14c90acdf7",
        "colab": {
          "base_uri": "https://localhost:8080/",
          "height": 195
        }
      },
      "source": [
        "df=pd.DataFrame()\n",
        "df[['YEAR','MONTH','DAY']] = df_flight.Date.str.split(\"-\",expand=True)\n",
        "df.head()"
      ],
      "execution_count": 9,
      "outputs": [
        {
          "output_type": "execute_result",
          "data": {
            "text/html": [
              "<div>\n",
              "<style scoped>\n",
              "    .dataframe tbody tr th:only-of-type {\n",
              "        vertical-align: middle;\n",
              "    }\n",
              "\n",
              "    .dataframe tbody tr th {\n",
              "        vertical-align: top;\n",
              "    }\n",
              "\n",
              "    .dataframe thead th {\n",
              "        text-align: right;\n",
              "    }\n",
              "</style>\n",
              "<table border=\"1\" class=\"dataframe\">\n",
              "  <thead>\n",
              "    <tr style=\"text-align: right;\">\n",
              "      <th></th>\n",
              "      <th>YEAR</th>\n",
              "      <th>MONTH</th>\n",
              "      <th>DAY</th>\n",
              "    </tr>\n",
              "  </thead>\n",
              "  <tbody>\n",
              "    <tr>\n",
              "      <th>0</th>\n",
              "      <td>2015</td>\n",
              "      <td>01</td>\n",
              "      <td>01</td>\n",
              "    </tr>\n",
              "    <tr>\n",
              "      <th>1</th>\n",
              "      <td>2015</td>\n",
              "      <td>01</td>\n",
              "      <td>01</td>\n",
              "    </tr>\n",
              "    <tr>\n",
              "      <th>2</th>\n",
              "      <td>2015</td>\n",
              "      <td>01</td>\n",
              "      <td>01</td>\n",
              "    </tr>\n",
              "    <tr>\n",
              "      <th>3</th>\n",
              "      <td>2015</td>\n",
              "      <td>01</td>\n",
              "      <td>01</td>\n",
              "    </tr>\n",
              "    <tr>\n",
              "      <th>4</th>\n",
              "      <td>2015</td>\n",
              "      <td>01</td>\n",
              "      <td>01</td>\n",
              "    </tr>\n",
              "  </tbody>\n",
              "</table>\n",
              "</div>"
            ],
            "text/plain": [
              "   YEAR MONTH DAY\n",
              "0  2015    01  01\n",
              "1  2015    01  01\n",
              "2  2015    01  01\n",
              "3  2015    01  01\n",
              "4  2015    01  01"
            ]
          },
          "metadata": {
            "tags": []
          },
          "execution_count": 9
        }
      ]
    },
    {
      "cell_type": "code",
      "metadata": {
        "id": "hOOx2fgruD7R",
        "colab_type": "code",
        "outputId": "bdc91c6d-71dc-4bcd-8ce2-e6860bc02810",
        "colab": {
          "base_uri": "https://localhost:8080/",
          "height": 193
        }
      },
      "source": [
        "df = df.astype('int64')\n",
        "df.info()"
      ],
      "execution_count": 10,
      "outputs": [
        {
          "output_type": "stream",
          "text": [
            "<class 'pandas.core.frame.DataFrame'>\n",
            "RangeIndex: 5714008 entries, 0 to 5714007\n",
            "Data columns (total 3 columns):\n",
            " #   Column  Dtype\n",
            "---  ------  -----\n",
            " 0   YEAR    int64\n",
            " 1   MONTH   int64\n",
            " 2   DAY     int64\n",
            "dtypes: int64(3)\n",
            "memory usage: 130.8 MB\n"
          ],
          "name": "stdout"
        }
      ]
    },
    {
      "cell_type": "code",
      "metadata": {
        "id": "rasqcJZHu4-R",
        "colab_type": "code",
        "colab": {}
      },
      "source": [
        "df_flight=pd.concat([df_flight,df[['MONTH','DAY']]],axis=1)"
      ],
      "execution_count": 0,
      "outputs": []
    },
    {
      "cell_type": "code",
      "metadata": {
        "id": "QlCQMufy9TE9",
        "colab_type": "code",
        "colab": {}
      },
      "source": [
        "df_flight=df_flight.drop(['CANCELLED'],axis=1)"
      ],
      "execution_count": 0,
      "outputs": []
    },
    {
      "cell_type": "code",
      "metadata": {
        "id": "TDstWkFn_DbS",
        "colab_type": "code",
        "outputId": "5dac1832-d3c1-43e9-9a7d-cf435c880815",
        "colab": {
          "base_uri": "https://localhost:8080/",
          "height": 299
        }
      },
      "source": [
        "df_flight=df_flight.drop(['Unnamed: 0'],axis=1)\n",
        "df_flight.head()"
      ],
      "execution_count": 13,
      "outputs": [
        {
          "output_type": "execute_result",
          "data": {
            "text/html": [
              "<div>\n",
              "<style scoped>\n",
              "    .dataframe tbody tr th:only-of-type {\n",
              "        vertical-align: middle;\n",
              "    }\n",
              "\n",
              "    .dataframe tbody tr th {\n",
              "        vertical-align: top;\n",
              "    }\n",
              "\n",
              "    .dataframe thead th {\n",
              "        text-align: right;\n",
              "    }\n",
              "</style>\n",
              "<table border=\"1\" class=\"dataframe\">\n",
              "  <thead>\n",
              "    <tr style=\"text-align: right;\">\n",
              "      <th></th>\n",
              "      <th>Date</th>\n",
              "      <th>DAY_OF_WEEK</th>\n",
              "      <th>AIRLINE</th>\n",
              "      <th>FLIGHT_NUMBER</th>\n",
              "      <th>TAIL_NUMBER</th>\n",
              "      <th>ORIGIN_AIRPORT</th>\n",
              "      <th>DESTINATION_AIRPORT</th>\n",
              "      <th>DEPARTURE_DELAY</th>\n",
              "      <th>TAXI_OUT</th>\n",
              "      <th>DISTANCE</th>\n",
              "      <th>TAXI_IN</th>\n",
              "      <th>ARRIVAL_DELAY</th>\n",
              "      <th>WEATHER_DELAY_NEW</th>\n",
              "      <th>LATE_AIRCRAFT_DELAY_NEW</th>\n",
              "      <th>AIRLINE_DELAY_NEW</th>\n",
              "      <th>SCHEDULED_DEPARTURE</th>\n",
              "      <th>DEPARTURE_TIME</th>\n",
              "      <th>SCHEDULED_ARRIVAL</th>\n",
              "      <th>ARRIVAL_TIME</th>\n",
              "      <th>MONTH</th>\n",
              "      <th>DAY</th>\n",
              "    </tr>\n",
              "  </thead>\n",
              "  <tbody>\n",
              "    <tr>\n",
              "      <th>0</th>\n",
              "      <td>2015-01-01</td>\n",
              "      <td>4</td>\n",
              "      <td>AS</td>\n",
              "      <td>98</td>\n",
              "      <td>N407AS</td>\n",
              "      <td>ANC</td>\n",
              "      <td>SEA</td>\n",
              "      <td>-11.0</td>\n",
              "      <td>21.0</td>\n",
              "      <td>1448</td>\n",
              "      <td>4.0</td>\n",
              "      <td>-22.0</td>\n",
              "      <td>-3.90</td>\n",
              "      <td>-0.04</td>\n",
              "      <td>12.88</td>\n",
              "      <td>00:05</td>\n",
              "      <td>23:54</td>\n",
              "      <td>04:30</td>\n",
              "      <td>04:08</td>\n",
              "      <td>1</td>\n",
              "      <td>1</td>\n",
              "    </tr>\n",
              "    <tr>\n",
              "      <th>1</th>\n",
              "      <td>2015-01-01</td>\n",
              "      <td>4</td>\n",
              "      <td>AA</td>\n",
              "      <td>2336</td>\n",
              "      <td>N3KUAA</td>\n",
              "      <td>LAX</td>\n",
              "      <td>PBI</td>\n",
              "      <td>-8.0</td>\n",
              "      <td>12.0</td>\n",
              "      <td>2330</td>\n",
              "      <td>4.0</td>\n",
              "      <td>-9.0</td>\n",
              "      <td>-2.80</td>\n",
              "      <td>1.03</td>\n",
              "      <td>12.74</td>\n",
              "      <td>00:10</td>\n",
              "      <td>00:02</td>\n",
              "      <td>07:50</td>\n",
              "      <td>07:41</td>\n",
              "      <td>1</td>\n",
              "      <td>1</td>\n",
              "    </tr>\n",
              "    <tr>\n",
              "      <th>2</th>\n",
              "      <td>2015-01-01</td>\n",
              "      <td>4</td>\n",
              "      <td>US</td>\n",
              "      <td>840</td>\n",
              "      <td>N171US</td>\n",
              "      <td>SFO</td>\n",
              "      <td>CLT</td>\n",
              "      <td>-2.0</td>\n",
              "      <td>16.0</td>\n",
              "      <td>2296</td>\n",
              "      <td>11.0</td>\n",
              "      <td>5.0</td>\n",
              "      <td>-1.63</td>\n",
              "      <td>3.17</td>\n",
              "      <td>12.67</td>\n",
              "      <td>00:20</td>\n",
              "      <td>00:18</td>\n",
              "      <td>08:06</td>\n",
              "      <td>08:11</td>\n",
              "      <td>1</td>\n",
              "      <td>1</td>\n",
              "    </tr>\n",
              "    <tr>\n",
              "      <th>3</th>\n",
              "      <td>2015-01-01</td>\n",
              "      <td>4</td>\n",
              "      <td>AA</td>\n",
              "      <td>258</td>\n",
              "      <td>N3HYAA</td>\n",
              "      <td>LAX</td>\n",
              "      <td>MIA</td>\n",
              "      <td>-5.0</td>\n",
              "      <td>15.0</td>\n",
              "      <td>2342</td>\n",
              "      <td>8.0</td>\n",
              "      <td>-9.0</td>\n",
              "      <td>-2.80</td>\n",
              "      <td>2.10</td>\n",
              "      <td>12.71</td>\n",
              "      <td>00:20</td>\n",
              "      <td>00:15</td>\n",
              "      <td>08:05</td>\n",
              "      <td>07:56</td>\n",
              "      <td>1</td>\n",
              "      <td>1</td>\n",
              "    </tr>\n",
              "    <tr>\n",
              "      <th>4</th>\n",
              "      <td>2015-01-01</td>\n",
              "      <td>4</td>\n",
              "      <td>AS</td>\n",
              "      <td>135</td>\n",
              "      <td>N527AS</td>\n",
              "      <td>SEA</td>\n",
              "      <td>ANC</td>\n",
              "      <td>-1.0</td>\n",
              "      <td>11.0</td>\n",
              "      <td>1448</td>\n",
              "      <td>5.0</td>\n",
              "      <td>-21.0</td>\n",
              "      <td>-3.81</td>\n",
              "      <td>3.53</td>\n",
              "      <td>12.69</td>\n",
              "      <td>00:25</td>\n",
              "      <td>00:24</td>\n",
              "      <td>03:20</td>\n",
              "      <td>02:59</td>\n",
              "      <td>1</td>\n",
              "      <td>1</td>\n",
              "    </tr>\n",
              "  </tbody>\n",
              "</table>\n",
              "</div>"
            ],
            "text/plain": [
              "         Date  DAY_OF_WEEK AIRLINE  ...  ARRIVAL_TIME MONTH DAY\n",
              "0  2015-01-01            4      AS  ...         04:08     1   1\n",
              "1  2015-01-01            4      AA  ...         07:41     1   1\n",
              "2  2015-01-01            4      US  ...         08:11     1   1\n",
              "3  2015-01-01            4      AA  ...         07:56     1   1\n",
              "4  2015-01-01            4      AS  ...         02:59     1   1\n",
              "\n",
              "[5 rows x 21 columns]"
            ]
          },
          "metadata": {
            "tags": []
          },
          "execution_count": 13
        }
      ]
    },
    {
      "cell_type": "code",
      "metadata": {
        "id": "Gj8dkcIBB5Nk",
        "colab_type": "code",
        "outputId": "d0303e61-6eac-4fd2-c67a-159b4b83e487",
        "colab": {
          "base_uri": "https://localhost:8080/",
          "height": 34
        }
      },
      "source": [
        "df_flight.shape"
      ],
      "execution_count": 14,
      "outputs": [
        {
          "output_type": "execute_result",
          "data": {
            "text/plain": [
              "(5714008, 21)"
            ]
          },
          "metadata": {
            "tags": []
          },
          "execution_count": 14
        }
      ]
    },
    {
      "cell_type": "code",
      "metadata": {
        "id": "C0g-UyK19TCH",
        "colab_type": "code",
        "outputId": "a2e66dce-1f9c-4dc6-edc1-c28a796f27e7",
        "colab": {
          "base_uri": "https://localhost:8080/",
          "height": 299
        }
      },
      "source": [
        "\n",
        "\n",
        "column_names=['Date','ORIGIN_AIRPORT','SCHEDULED_DEPARTURE','DEPARTURE_TIME','DEPARTURE_DELAY','DESTINATION_AIRPORT','SCHEDULED_ARRIVAL','ARRIVAL_TIME','ARRIVAL_DELAY','DISTANCE','AIRLINE','FLIGHT_NUMBER','TAIL_NUMBER','TAXI_IN','TAXI_OUT','AIRLINE_DELAY_NEW','LATE_AIRCRAFT_DELAY_NEW','WEATHER_DELAY_NEW','MONTH','DAY','DAY_OF_WEEK']\n",
        "df_flight = df_flight.reindex(columns=column_names)\n",
        "df_flight.head()\n"
      ],
      "execution_count": 15,
      "outputs": [
        {
          "output_type": "execute_result",
          "data": {
            "text/html": [
              "<div>\n",
              "<style scoped>\n",
              "    .dataframe tbody tr th:only-of-type {\n",
              "        vertical-align: middle;\n",
              "    }\n",
              "\n",
              "    .dataframe tbody tr th {\n",
              "        vertical-align: top;\n",
              "    }\n",
              "\n",
              "    .dataframe thead th {\n",
              "        text-align: right;\n",
              "    }\n",
              "</style>\n",
              "<table border=\"1\" class=\"dataframe\">\n",
              "  <thead>\n",
              "    <tr style=\"text-align: right;\">\n",
              "      <th></th>\n",
              "      <th>Date</th>\n",
              "      <th>ORIGIN_AIRPORT</th>\n",
              "      <th>SCHEDULED_DEPARTURE</th>\n",
              "      <th>DEPARTURE_TIME</th>\n",
              "      <th>DEPARTURE_DELAY</th>\n",
              "      <th>DESTINATION_AIRPORT</th>\n",
              "      <th>SCHEDULED_ARRIVAL</th>\n",
              "      <th>ARRIVAL_TIME</th>\n",
              "      <th>ARRIVAL_DELAY</th>\n",
              "      <th>DISTANCE</th>\n",
              "      <th>AIRLINE</th>\n",
              "      <th>FLIGHT_NUMBER</th>\n",
              "      <th>TAIL_NUMBER</th>\n",
              "      <th>TAXI_IN</th>\n",
              "      <th>TAXI_OUT</th>\n",
              "      <th>AIRLINE_DELAY_NEW</th>\n",
              "      <th>LATE_AIRCRAFT_DELAY_NEW</th>\n",
              "      <th>WEATHER_DELAY_NEW</th>\n",
              "      <th>MONTH</th>\n",
              "      <th>DAY</th>\n",
              "      <th>DAY_OF_WEEK</th>\n",
              "    </tr>\n",
              "  </thead>\n",
              "  <tbody>\n",
              "    <tr>\n",
              "      <th>0</th>\n",
              "      <td>2015-01-01</td>\n",
              "      <td>ANC</td>\n",
              "      <td>00:05</td>\n",
              "      <td>23:54</td>\n",
              "      <td>-11.0</td>\n",
              "      <td>SEA</td>\n",
              "      <td>04:30</td>\n",
              "      <td>04:08</td>\n",
              "      <td>-22.0</td>\n",
              "      <td>1448</td>\n",
              "      <td>AS</td>\n",
              "      <td>98</td>\n",
              "      <td>N407AS</td>\n",
              "      <td>4.0</td>\n",
              "      <td>21.0</td>\n",
              "      <td>12.88</td>\n",
              "      <td>-0.04</td>\n",
              "      <td>-3.90</td>\n",
              "      <td>1</td>\n",
              "      <td>1</td>\n",
              "      <td>4</td>\n",
              "    </tr>\n",
              "    <tr>\n",
              "      <th>1</th>\n",
              "      <td>2015-01-01</td>\n",
              "      <td>LAX</td>\n",
              "      <td>00:10</td>\n",
              "      <td>00:02</td>\n",
              "      <td>-8.0</td>\n",
              "      <td>PBI</td>\n",
              "      <td>07:50</td>\n",
              "      <td>07:41</td>\n",
              "      <td>-9.0</td>\n",
              "      <td>2330</td>\n",
              "      <td>AA</td>\n",
              "      <td>2336</td>\n",
              "      <td>N3KUAA</td>\n",
              "      <td>4.0</td>\n",
              "      <td>12.0</td>\n",
              "      <td>12.74</td>\n",
              "      <td>1.03</td>\n",
              "      <td>-2.80</td>\n",
              "      <td>1</td>\n",
              "      <td>1</td>\n",
              "      <td>4</td>\n",
              "    </tr>\n",
              "    <tr>\n",
              "      <th>2</th>\n",
              "      <td>2015-01-01</td>\n",
              "      <td>SFO</td>\n",
              "      <td>00:20</td>\n",
              "      <td>00:18</td>\n",
              "      <td>-2.0</td>\n",
              "      <td>CLT</td>\n",
              "      <td>08:06</td>\n",
              "      <td>08:11</td>\n",
              "      <td>5.0</td>\n",
              "      <td>2296</td>\n",
              "      <td>US</td>\n",
              "      <td>840</td>\n",
              "      <td>N171US</td>\n",
              "      <td>11.0</td>\n",
              "      <td>16.0</td>\n",
              "      <td>12.67</td>\n",
              "      <td>3.17</td>\n",
              "      <td>-1.63</td>\n",
              "      <td>1</td>\n",
              "      <td>1</td>\n",
              "      <td>4</td>\n",
              "    </tr>\n",
              "    <tr>\n",
              "      <th>3</th>\n",
              "      <td>2015-01-01</td>\n",
              "      <td>LAX</td>\n",
              "      <td>00:20</td>\n",
              "      <td>00:15</td>\n",
              "      <td>-5.0</td>\n",
              "      <td>MIA</td>\n",
              "      <td>08:05</td>\n",
              "      <td>07:56</td>\n",
              "      <td>-9.0</td>\n",
              "      <td>2342</td>\n",
              "      <td>AA</td>\n",
              "      <td>258</td>\n",
              "      <td>N3HYAA</td>\n",
              "      <td>8.0</td>\n",
              "      <td>15.0</td>\n",
              "      <td>12.71</td>\n",
              "      <td>2.10</td>\n",
              "      <td>-2.80</td>\n",
              "      <td>1</td>\n",
              "      <td>1</td>\n",
              "      <td>4</td>\n",
              "    </tr>\n",
              "    <tr>\n",
              "      <th>4</th>\n",
              "      <td>2015-01-01</td>\n",
              "      <td>SEA</td>\n",
              "      <td>00:25</td>\n",
              "      <td>00:24</td>\n",
              "      <td>-1.0</td>\n",
              "      <td>ANC</td>\n",
              "      <td>03:20</td>\n",
              "      <td>02:59</td>\n",
              "      <td>-21.0</td>\n",
              "      <td>1448</td>\n",
              "      <td>AS</td>\n",
              "      <td>135</td>\n",
              "      <td>N527AS</td>\n",
              "      <td>5.0</td>\n",
              "      <td>11.0</td>\n",
              "      <td>12.69</td>\n",
              "      <td>3.53</td>\n",
              "      <td>-3.81</td>\n",
              "      <td>1</td>\n",
              "      <td>1</td>\n",
              "      <td>4</td>\n",
              "    </tr>\n",
              "  </tbody>\n",
              "</table>\n",
              "</div>"
            ],
            "text/plain": [
              "         Date ORIGIN_AIRPORT SCHEDULED_DEPARTURE  ... MONTH  DAY DAY_OF_WEEK\n",
              "0  2015-01-01            ANC               00:05  ...     1    1           4\n",
              "1  2015-01-01            LAX               00:10  ...     1    1           4\n",
              "2  2015-01-01            SFO               00:20  ...     1    1           4\n",
              "3  2015-01-01            LAX               00:20  ...     1    1           4\n",
              "4  2015-01-01            SEA               00:25  ...     1    1           4\n",
              "\n",
              "[5 rows x 21 columns]"
            ]
          },
          "metadata": {
            "tags": []
          },
          "execution_count": 15
        }
      ]
    },
    {
      "cell_type": "code",
      "metadata": {
        "id": "6vfrFujcnonB",
        "colab_type": "code",
        "colab": {}
      },
      "source": [
        ""
      ],
      "execution_count": 0,
      "outputs": []
    },
    {
      "cell_type": "code",
      "metadata": {
        "id": "TDnG7vdu9S_-",
        "colab_type": "code",
        "outputId": "cb4ba048-f705-4789-9228-45249fe9befd",
        "colab": {
          "base_uri": "https://localhost:8080/",
          "height": 660
        }
      },
      "source": [
        "plt.figure(figsize=(10,8))\n",
        "s=sns.heatmap(df_flight.corr(),\n",
        "             annot=True,\n",
        "             cmap='RdBu',\n",
        "             vmin=-1, \n",
        "             vmax=1)\n",
        "s.set_yticklabels(s.get_yticklabels(),rotation=0,fontsize=12)\n",
        "s.set_xticklabels(s.get_xticklabels(),rotation=90,fontsize=12)\n",
        "plt.title('Correlation Heatmap')\n",
        "plt.show()"
      ],
      "execution_count": 16,
      "outputs": [
        {
          "output_type": "display_data",
          "data": {
            "image/png": "[encoded data removed]",
            "text/plain": [
              "<Figure size 720x576 with 2 Axes>"
            ]
          },
          "metadata": {
            "tags": [],
            "needs_background": "light"
          }
        }
      ]
    },
    {
      "cell_type": "code",
      "metadata": {
        "id": "Fn067Eri9S8v",
        "colab_type": "code",
        "colab": {}
      },
      "source": [
        "#decisiom trees and ridge regression"
      ],
      "execution_count": 0,
      "outputs": []
    },
    {
      "cell_type": "code",
      "metadata": {
        "id": "2T3mAOd6HA68",
        "colab_type": "code",
        "outputId": "c4c0b29b-de6f-4d03-a5f0-80f8f8aa924c",
        "colab": {
          "base_uri": "https://localhost:8080/",
          "height": 299
        }
      },
      "source": [
        "x=df_flight.copy()\n",
        "x.head()"
      ],
      "execution_count": 18,
      "outputs": [
        {
          "output_type": "execute_result",
          "data": {
            "text/html": [
              "<div>\n",
              "<style scoped>\n",
              "    .dataframe tbody tr th:only-of-type {\n",
              "        vertical-align: middle;\n",
              "    }\n",
              "\n",
              "    .dataframe tbody tr th {\n",
              "        vertical-align: top;\n",
              "    }\n",
              "\n",
              "    .dataframe thead th {\n",
              "        text-align: right;\n",
              "    }\n",
              "</style>\n",
              "<table border=\"1\" class=\"dataframe\">\n",
              "  <thead>\n",
              "    <tr style=\"text-align: right;\">\n",
              "      <th></th>\n",
              "      <th>Date</th>\n",
              "      <th>ORIGIN_AIRPORT</th>\n",
              "      <th>SCHEDULED_DEPARTURE</th>\n",
              "      <th>DEPARTURE_TIME</th>\n",
              "      <th>DEPARTURE_DELAY</th>\n",
              "      <th>DESTINATION_AIRPORT</th>\n",
              "      <th>SCHEDULED_ARRIVAL</th>\n",
              "      <th>ARRIVAL_TIME</th>\n",
              "      <th>ARRIVAL_DELAY</th>\n",
              "      <th>DISTANCE</th>\n",
              "      <th>AIRLINE</th>\n",
              "      <th>FLIGHT_NUMBER</th>\n",
              "      <th>TAIL_NUMBER</th>\n",
              "      <th>TAXI_IN</th>\n",
              "      <th>TAXI_OUT</th>\n",
              "      <th>AIRLINE_DELAY_NEW</th>\n",
              "      <th>LATE_AIRCRAFT_DELAY_NEW</th>\n",
              "      <th>WEATHER_DELAY_NEW</th>\n",
              "      <th>MONTH</th>\n",
              "      <th>DAY</th>\n",
              "      <th>DAY_OF_WEEK</th>\n",
              "    </tr>\n",
              "  </thead>\n",
              "  <tbody>\n",
              "    <tr>\n",
              "      <th>0</th>\n",
              "      <td>2015-01-01</td>\n",
              "      <td>ANC</td>\n",
              "      <td>00:05</td>\n",
              "      <td>23:54</td>\n",
              "      <td>-11.0</td>\n",
              "      <td>SEA</td>\n",
              "      <td>04:30</td>\n",
              "      <td>04:08</td>\n",
              "      <td>-22.0</td>\n",
              "      <td>1448</td>\n",
              "      <td>AS</td>\n",
              "      <td>98</td>\n",
              "      <td>N407AS</td>\n",
              "      <td>4.0</td>\n",
              "      <td>21.0</td>\n",
              "      <td>12.88</td>\n",
              "      <td>-0.04</td>\n",
              "      <td>-3.90</td>\n",
              "      <td>1</td>\n",
              "      <td>1</td>\n",
              "      <td>4</td>\n",
              "    </tr>\n",
              "    <tr>\n",
              "      <th>1</th>\n",
              "      <td>2015-01-01</td>\n",
              "      <td>LAX</td>\n",
              "      <td>00:10</td>\n",
              "      <td>00:02</td>\n",
              "      <td>-8.0</td>\n",
              "      <td>PBI</td>\n",
              "      <td>07:50</td>\n",
              "      <td>07:41</td>\n",
              "      <td>-9.0</td>\n",
              "      <td>2330</td>\n",
              "      <td>AA</td>\n",
              "      <td>2336</td>\n",
              "      <td>N3KUAA</td>\n",
              "      <td>4.0</td>\n",
              "      <td>12.0</td>\n",
              "      <td>12.74</td>\n",
              "      <td>1.03</td>\n",
              "      <td>-2.80</td>\n",
              "      <td>1</td>\n",
              "      <td>1</td>\n",
              "      <td>4</td>\n",
              "    </tr>\n",
              "    <tr>\n",
              "      <th>2</th>\n",
              "      <td>2015-01-01</td>\n",
              "      <td>SFO</td>\n",
              "      <td>00:20</td>\n",
              "      <td>00:18</td>\n",
              "      <td>-2.0</td>\n",
              "      <td>CLT</td>\n",
              "      <td>08:06</td>\n",
              "      <td>08:11</td>\n",
              "      <td>5.0</td>\n",
              "      <td>2296</td>\n",
              "      <td>US</td>\n",
              "      <td>840</td>\n",
              "      <td>N171US</td>\n",
              "      <td>11.0</td>\n",
              "      <td>16.0</td>\n",
              "      <td>12.67</td>\n",
              "      <td>3.17</td>\n",
              "      <td>-1.63</td>\n",
              "      <td>1</td>\n",
              "      <td>1</td>\n",
              "      <td>4</td>\n",
              "    </tr>\n",
              "    <tr>\n",
              "      <th>3</th>\n",
              "      <td>2015-01-01</td>\n",
              "      <td>LAX</td>\n",
              "      <td>00:20</td>\n",
              "      <td>00:15</td>\n",
              "      <td>-5.0</td>\n",
              "      <td>MIA</td>\n",
              "      <td>08:05</td>\n",
              "      <td>07:56</td>\n",
              "      <td>-9.0</td>\n",
              "      <td>2342</td>\n",
              "      <td>AA</td>\n",
              "      <td>258</td>\n",
              "      <td>N3HYAA</td>\n",
              "      <td>8.0</td>\n",
              "      <td>15.0</td>\n",
              "      <td>12.71</td>\n",
              "      <td>2.10</td>\n",
              "      <td>-2.80</td>\n",
              "      <td>1</td>\n",
              "      <td>1</td>\n",
              "      <td>4</td>\n",
              "    </tr>\n",
              "    <tr>\n",
              "      <th>4</th>\n",
              "      <td>2015-01-01</td>\n",
              "      <td>SEA</td>\n",
              "      <td>00:25</td>\n",
              "      <td>00:24</td>\n",
              "      <td>-1.0</td>\n",
              "      <td>ANC</td>\n",
              "      <td>03:20</td>\n",
              "      <td>02:59</td>\n",
              "      <td>-21.0</td>\n",
              "      <td>1448</td>\n",
              "      <td>AS</td>\n",
              "      <td>135</td>\n",
              "      <td>N527AS</td>\n",
              "      <td>5.0</td>\n",
              "      <td>11.0</td>\n",
              "      <td>12.69</td>\n",
              "      <td>3.53</td>\n",
              "      <td>-3.81</td>\n",
              "      <td>1</td>\n",
              "      <td>1</td>\n",
              "      <td>4</td>\n",
              "    </tr>\n",
              "  </tbody>\n",
              "</table>\n",
              "</div>"
            ],
            "text/plain": [
              "         Date ORIGIN_AIRPORT SCHEDULED_DEPARTURE  ... MONTH  DAY DAY_OF_WEEK\n",
              "0  2015-01-01            ANC               00:05  ...     1    1           4\n",
              "1  2015-01-01            LAX               00:10  ...     1    1           4\n",
              "2  2015-01-01            SFO               00:20  ...     1    1           4\n",
              "3  2015-01-01            LAX               00:20  ...     1    1           4\n",
              "4  2015-01-01            SEA               00:25  ...     1    1           4\n",
              "\n",
              "[5 rows x 21 columns]"
            ]
          },
          "metadata": {
            "tags": []
          },
          "execution_count": 18
        }
      ]
    },
    {
      "cell_type": "code",
      "metadata": {
        "id": "oWqxWvNpHp_5",
        "colab_type": "code",
        "outputId": "df7b8357-54a8-44b5-ad13-e2ad8d293d5a",
        "colab": {
          "base_uri": "https://localhost:8080/",
          "height": 122
        }
      },
      "source": [
        "y=df_flight['ARRIVAL_DELAY']\n",
        "y.head()"
      ],
      "execution_count": 19,
      "outputs": [
        {
          "output_type": "execute_result",
          "data": {
            "text/plain": [
              "0   -22.0\n",
              "1    -9.0\n",
              "2     5.0\n",
              "3    -9.0\n",
              "4   -21.0\n",
              "Name: ARRIVAL_DELAY, dtype: float64"
            ]
          },
          "metadata": {
            "tags": []
          },
          "execution_count": 19
        }
      ]
    },
    {
      "cell_type": "code",
      "metadata": {
        "id": "oAjig5WXCjXb",
        "colab_type": "code",
        "colab": {}
      },
      "source": [
        "features_train,delay_train,features_test,delay_test=train_test_split(x,y,train_size=0.80,random_state=1)"
      ],
      "execution_count": 0,
      "outputs": []
    },
    {
      "cell_type": "code",
      "metadata": {
        "id": "ladI3mX6CjUz",
        "colab_type": "code",
        "outputId": "d47cda06-34de-40bb-da5d-e51924814cea",
        "colab": {
          "base_uri": "https://localhost:8080/",
          "height": 299
        }
      },
      "source": [
        "delay_train.head()"
      ],
      "execution_count": 21,
      "outputs": [
        {
          "output_type": "execute_result",
          "data": {
            "text/html": [
              "<div>\n",
              "<style scoped>\n",
              "    .dataframe tbody tr th:only-of-type {\n",
              "        vertical-align: middle;\n",
              "    }\n",
              "\n",
              "    .dataframe tbody tr th {\n",
              "        vertical-align: top;\n",
              "    }\n",
              "\n",
              "    .dataframe thead th {\n",
              "        text-align: right;\n",
              "    }\n",
              "</style>\n",
              "<table border=\"1\" class=\"dataframe\">\n",
              "  <thead>\n",
              "    <tr style=\"text-align: right;\">\n",
              "      <th></th>\n",
              "      <th>Date</th>\n",
              "      <th>ORIGIN_AIRPORT</th>\n",
              "      <th>SCHEDULED_DEPARTURE</th>\n",
              "      <th>DEPARTURE_TIME</th>\n",
              "      <th>DEPARTURE_DELAY</th>\n",
              "      <th>DESTINATION_AIRPORT</th>\n",
              "      <th>SCHEDULED_ARRIVAL</th>\n",
              "      <th>ARRIVAL_TIME</th>\n",
              "      <th>ARRIVAL_DELAY</th>\n",
              "      <th>DISTANCE</th>\n",
              "      <th>AIRLINE</th>\n",
              "      <th>FLIGHT_NUMBER</th>\n",
              "      <th>TAIL_NUMBER</th>\n",
              "      <th>TAXI_IN</th>\n",
              "      <th>TAXI_OUT</th>\n",
              "      <th>AIRLINE_DELAY_NEW</th>\n",
              "      <th>LATE_AIRCRAFT_DELAY_NEW</th>\n",
              "      <th>WEATHER_DELAY_NEW</th>\n",
              "      <th>MONTH</th>\n",
              "      <th>DAY</th>\n",
              "      <th>DAY_OF_WEEK</th>\n",
              "    </tr>\n",
              "  </thead>\n",
              "  <tbody>\n",
              "    <tr>\n",
              "      <th>172117</th>\n",
              "      <td>2015-01-12</td>\n",
              "      <td>SJC</td>\n",
              "      <td>13:35</td>\n",
              "      <td>13:44</td>\n",
              "      <td>9.0</td>\n",
              "      <td>SAN</td>\n",
              "      <td>14:50</td>\n",
              "      <td>14:58</td>\n",
              "      <td>8.0</td>\n",
              "      <td>417</td>\n",
              "      <td>WN</td>\n",
              "      <td>4200</td>\n",
              "      <td>N7744A</td>\n",
              "      <td>3.0</td>\n",
              "      <td>7.0</td>\n",
              "      <td>12.74</td>\n",
              "      <td>7.09</td>\n",
              "      <td>-1.37</td>\n",
              "      <td>1</td>\n",
              "      <td>12</td>\n",
              "      <td>1</td>\n",
              "    </tr>\n",
              "    <tr>\n",
              "      <th>5610623</th>\n",
              "      <td>2015-12-24</td>\n",
              "      <td>ATL</td>\n",
              "      <td>17:30</td>\n",
              "      <td>19:38</td>\n",
              "      <td>128.0</td>\n",
              "      <td>BWI</td>\n",
              "      <td>19:13</td>\n",
              "      <td>21:06</td>\n",
              "      <td>113.0</td>\n",
              "      <td>577</td>\n",
              "      <td>NK</td>\n",
              "      <td>824</td>\n",
              "      <td>N507NK</td>\n",
              "      <td>8.0</td>\n",
              "      <td>9.0</td>\n",
              "      <td>34.00</td>\n",
              "      <td>78.00</td>\n",
              "      <td>0.00</td>\n",
              "      <td>12</td>\n",
              "      <td>24</td>\n",
              "      <td>4</td>\n",
              "    </tr>\n",
              "    <tr>\n",
              "      <th>652554</th>\n",
              "      <td>2015-02-14</td>\n",
              "      <td>MIA</td>\n",
              "      <td>12:25</td>\n",
              "      <td>12:21</td>\n",
              "      <td>-4.0</td>\n",
              "      <td>SJU</td>\n",
              "      <td>15:58</td>\n",
              "      <td>16:01</td>\n",
              "      <td>3.0</td>\n",
              "      <td>1045</td>\n",
              "      <td>AA</td>\n",
              "      <td>1613</td>\n",
              "      <td>N3CBAA</td>\n",
              "      <td>17.0</td>\n",
              "      <td>19.0</td>\n",
              "      <td>12.67</td>\n",
              "      <td>2.46</td>\n",
              "      <td>-1.79</td>\n",
              "      <td>2</td>\n",
              "      <td>14</td>\n",
              "      <td>6</td>\n",
              "    </tr>\n",
              "    <tr>\n",
              "      <th>5261033</th>\n",
              "      <td>2015-12-02</td>\n",
              "      <td>RNO</td>\n",
              "      <td>06:20</td>\n",
              "      <td>06:16</td>\n",
              "      <td>-4.0</td>\n",
              "      <td>PHX</td>\n",
              "      <td>09:07</td>\n",
              "      <td>08:55</td>\n",
              "      <td>-12.0</td>\n",
              "      <td>601</td>\n",
              "      <td>AA</td>\n",
              "      <td>460</td>\n",
              "      <td>N807AW</td>\n",
              "      <td>3.0</td>\n",
              "      <td>17.0</td>\n",
              "      <td>12.72</td>\n",
              "      <td>2.46</td>\n",
              "      <td>-3.06</td>\n",
              "      <td>12</td>\n",
              "      <td>2</td>\n",
              "      <td>3</td>\n",
              "    </tr>\n",
              "    <tr>\n",
              "      <th>1229441</th>\n",
              "      <td>2015-03-24</td>\n",
              "      <td>MCI</td>\n",
              "      <td>08:00</td>\n",
              "      <td>08:01</td>\n",
              "      <td>1.0</td>\n",
              "      <td>MDW</td>\n",
              "      <td>09:20</td>\n",
              "      <td>09:17</td>\n",
              "      <td>-3.0</td>\n",
              "      <td>405</td>\n",
              "      <td>WN</td>\n",
              "      <td>1790</td>\n",
              "      <td>N749SW</td>\n",
              "      <td>6.0</td>\n",
              "      <td>10.0</td>\n",
              "      <td>12.67</td>\n",
              "      <td>4.24</td>\n",
              "      <td>-2.30</td>\n",
              "      <td>3</td>\n",
              "      <td>24</td>\n",
              "      <td>2</td>\n",
              "    </tr>\n",
              "  </tbody>\n",
              "</table>\n",
              "</div>"
            ],
            "text/plain": [
              "               Date ORIGIN_AIRPORT SCHEDULED_DEPARTURE  ... MONTH  DAY DAY_OF_WEEK\n",
              "172117   2015-01-12            SJC               13:35  ...     1   12           1\n",
              "5610623  2015-12-24            ATL               17:30  ...    12   24           4\n",
              "652554   2015-02-14            MIA               12:25  ...     2   14           6\n",
              "5261033  2015-12-02            RNO               06:20  ...    12    2           3\n",
              "1229441  2015-03-24            MCI               08:00  ...     3   24           2\n",
              "\n",
              "[5 rows x 21 columns]"
            ]
          },
          "metadata": {
            "tags": []
          },
          "execution_count": 21
        }
      ]
    },
    {
      "cell_type": "markdown",
      "metadata": {
        "id": "B7opcfdZLxhI",
        "colab_type": "text"
      },
      "source": [
        "# **I have used Ridge Regression to predict the arrival delay between airports.**\n"
      ]
    },
    {
      "cell_type": "code",
      "metadata": {
        "id": "Vxoo0En1CjRK",
        "colab_type": "code",
        "colab": {}
      },
      "source": [
        "alphas = 10**np.linspace(10,-2,50)*0.5\n",
        "#alphas"
      ],
      "execution_count": 0,
      "outputs": []
    },
    {
      "cell_type": "code",
      "metadata": {
        "id": "rDQNUt1SP6iP",
        "colab_type": "code",
        "colab": {}
      },
      "source": [
        ""
      ],
      "execution_count": 0,
      "outputs": []
    },
    {
      "cell_type": "code",
      "metadata": {
        "id": "FFoNOj8hWtg5",
        "colab_type": "code",
        "outputId": "b231dfc8-16bd-4501-a11c-c8c8b74e4ef8",
        "colab": {
          "base_uri": "https://localhost:8080/",
          "height": 34
        }
      },
      "source": [
        "ridge = Ridge(normalize=True)\n",
        "coefs = []\n",
        "for a in alphas:\n",
        "  ridge.set_params(alpha=a)\n",
        "  ridge.fit(features_train[['DEPARTURE_DELAY','TAXI_OUT','AIRLINE_DELAY_NEW','LATE_AIRCRAFT_DELAY_NEW','WEATHER_DELAY_NEW']], features_test)\n",
        "  coefs.append(ridge.coef_)\n",
        "\n",
        "np.shape(coefs)"
      ],
      "execution_count": 23,
      "outputs": [
        {
          "output_type": "execute_result",
          "data": {
            "text/plain": [
              "(50, 5)"
            ]
          },
          "metadata": {
            "tags": []
          },
          "execution_count": 23
        }
      ]
    },
    {
      "cell_type": "code",
      "metadata": {
        "id": "PpZotnDQW86i",
        "colab_type": "code",
        "outputId": "2e57f5ee-f748-4ec6-f577-c2fe07d11b02",
        "colab": {
          "base_uri": "https://localhost:8080/",
          "height": 518
        }
      },
      "source": [
        "plt.figure(figsize=(10,8))\n",
        "ax = plt.gca()\n",
        "ax.plot(alphas, coefs)\n",
        "ax.set_xscale('log')\n",
        "plt.axis('tight')\n",
        "plt.xlabel('alpha')\n",
        "plt.ylabel('weights')"
      ],
      "execution_count": 24,
      "outputs": [
        {
          "output_type": "execute_result",
          "data": {
            "text/plain": [
              "Text(0, 0.5, 'weights')"
            ]
          },
          "metadata": {
            "tags": []
          },
          "execution_count": 24
        },
        {
          "output_type": "display_data",
          "data": {
            "image/png": "[encoded data removed]",
            "text/plain": [
              "<Figure size 720x576 with 1 Axes>"
            ]
          },
          "metadata": {
            "tags": [],
            "needs_background": "light"
          }
        }
      ]
    },
    {
      "cell_type": "code",
      "metadata": {
        "id": "teZk-3IjCjO3",
        "colab_type": "code",
        "outputId": "80d2be6d-8182-4556-c0bb-e608d6ab909f",
        "colab": {
          "base_uri": "https://localhost:8080/",
          "height": 34
        }
      },
      "source": [
        "ridgecv = RidgeCV(alphas=alphas, normalize=True)\n",
        "ridgecv.fit(features_train[['DEPARTURE_DELAY','TAXI_OUT','AIRLINE_DELAY_NEW','LATE_AIRCRAFT_DELAY_NEW','WEATHER_DELAY_NEW']], features_test)\n",
        "ridgecv.alpha_"
      ],
      "execution_count": 25,
      "outputs": [
        {
          "output_type": "execute_result",
          "data": {
            "text/plain": [
              "0.005"
            ]
          },
          "metadata": {
            "tags": []
          },
          "execution_count": 25
        }
      ]
    },
    {
      "cell_type": "code",
      "metadata": {
        "id": "8Us7-3bsUQff",
        "colab_type": "code",
        "outputId": "40685304-4e61-427f-8daa-ef31b0417f64",
        "colab": {
          "base_uri": "https://localhost:8080/",
          "height": 34
        }
      },
      "source": [
        "ridge4 = Ridge(alpha=ridgecv.alpha_, normalize=True)\n",
        "ridge4.fit(features_train[['DEPARTURE_DELAY','TAXI_OUT','AIRLINE_DELAY_NEW','LATE_AIRCRAFT_DELAY_NEW','WEATHER_DELAY_NEW']], features_test)\n",
        "mean_squared_error(delay_test, ridge4.predict(delay_train[['DEPARTURE_DELAY','TAXI_OUT','AIRLINE_DELAY_NEW','LATE_AIRCRAFT_DELAY_NEW','WEATHER_DELAY_NEW']]))"
      ],
      "execution_count": 26,
      "outputs": [
        {
          "output_type": "execute_result",
          "data": {
            "text/plain": [
              "119.11442820198191"
            ]
          },
          "metadata": {
            "tags": []
          },
          "execution_count": 26
        }
      ]
    },
    {
      "cell_type": "code",
      "metadata": {
        "id": "tV5utnNMCjMD",
        "colab_type": "code",
        "outputId": "94da16dc-54d4-4a7b-fa4f-64dc92994424",
        "colab": {
          "base_uri": "https://localhost:8080/",
          "height": 122
        }
      },
      "source": [
        "pd.Series(ridge4.coef_,index=features_train[['DEPARTURE_DELAY','TAXI_OUT','AIRLINE_DELAY_NEW','LATE_AIRCRAFT_DELAY_NEW','WEATHER_DELAY_NEW']].columns)"
      ],
      "execution_count": 27,
      "outputs": [
        {
          "output_type": "execute_result",
          "data": {
            "text/plain": [
              "DEPARTURE_DELAY            0.950628\n",
              "TAXI_OUT                   0.749004\n",
              "AIRLINE_DELAY_NEW          0.028523\n",
              "LATE_AIRCRAFT_DELAY_NEW    0.044688\n",
              "WEATHER_DELAY_NEW          0.181319\n",
              "dtype: float64"
            ]
          },
          "metadata": {
            "tags": []
          },
          "execution_count": 27
        }
      ]
    },
    {
      "cell_type": "code",
      "metadata": {
        "id": "BfYZf4j7CjIP",
        "colab_type": "code",
        "outputId": "248db8e6-1475-405d-af52-128e99605716",
        "colab": {
          "base_uri": "https://localhost:8080/",
          "height": 195
        }
      },
      "source": [
        "predicted_delay=ridge4.predict(delay_train[['DEPARTURE_DELAY','TAXI_OUT','AIRLINE_DELAY_NEW','LATE_AIRCRAFT_DELAY_NEW','WEATHER_DELAY_NEW']])\n",
        "predicted_delay=pd.DataFrame(predicted_delay)\n",
        "predicted_delay.columns=['Predicted_Arrival_Delay']\n",
        "predicted_delay.head()"
      ],
      "execution_count": 28,
      "outputs": [
        {
          "output_type": "execute_result",
          "data": {
            "text/html": [
              "<div>\n",
              "<style scoped>\n",
              "    .dataframe tbody tr th:only-of-type {\n",
              "        vertical-align: middle;\n",
              "    }\n",
              "\n",
              "    .dataframe tbody tr th {\n",
              "        vertical-align: top;\n",
              "    }\n",
              "\n",
              "    .dataframe thead th {\n",
              "        text-align: right;\n",
              "    }\n",
              "</style>\n",
              "<table border=\"1\" class=\"dataframe\">\n",
              "  <thead>\n",
              "    <tr style=\"text-align: right;\">\n",
              "      <th></th>\n",
              "      <th>Predicted_Arrival_Delay</th>\n",
              "    </tr>\n",
              "  </thead>\n",
              "  <tbody>\n",
              "    <tr>\n",
              "      <th>0</th>\n",
              "      <td>-2.642002</td>\n",
              "    </tr>\n",
              "    <tr>\n",
              "      <th>1</th>\n",
              "      <td>116.004350</td>\n",
              "    </tr>\n",
              "    <tr>\n",
              "      <th>2</th>\n",
              "      <td>-6.297173</td>\n",
              "    </tr>\n",
              "    <tr>\n",
              "      <th>3</th>\n",
              "      <td>-8.024030</td>\n",
              "    </tr>\n",
              "    <tr>\n",
              "      <th>4</th>\n",
              "      <td>-8.297997</td>\n",
              "    </tr>\n",
              "  </tbody>\n",
              "</table>\n",
              "</div>"
            ],
            "text/plain": [
              "   Predicted_Arrival_Delay\n",
              "0                -2.642002\n",
              "1               116.004350\n",
              "2                -6.297173\n",
              "3                -8.024030\n",
              "4                -8.297997"
            ]
          },
          "metadata": {
            "tags": []
          },
          "execution_count": 28
        }
      ]
    },
    {
      "cell_type": "markdown",
      "metadata": {
        "id": "2EHU34HAy5pV",
        "colab_type": "text"
      },
      "source": [
        "# **First 5 actual vs predicted arrival delay is shown in the following dataframe**\n"
      ]
    },
    {
      "cell_type": "code",
      "metadata": {
        "id": "_X7b5qTgZlsX",
        "colab_type": "code",
        "outputId": "c3305fe9-7474-458f-be80-9fe4a165ac9f",
        "colab": {
          "base_uri": "https://localhost:8080/",
          "height": 195
        }
      },
      "source": [
        "predicted_delay.reset_index(drop=True, inplace=True)\n",
        "df2=pd.DataFrame(delay_test)\n",
        "df2.reset_index(drop=True, inplace=True)\n",
        "\n",
        "predicted_delay = pd.concat( [predicted_delay, df2], axis=1) \n",
        "predicted_delay.head()"
      ],
      "execution_count": 29,
      "outputs": [
        {
          "output_type": "execute_result",
          "data": {
            "text/html": [
              "<div>\n",
              "<style scoped>\n",
              "    .dataframe tbody tr th:only-of-type {\n",
              "        vertical-align: middle;\n",
              "    }\n",
              "\n",
              "    .dataframe tbody tr th {\n",
              "        vertical-align: top;\n",
              "    }\n",
              "\n",
              "    .dataframe thead th {\n",
              "        text-align: right;\n",
              "    }\n",
              "</style>\n",
              "<table border=\"1\" class=\"dataframe\">\n",
              "  <thead>\n",
              "    <tr style=\"text-align: right;\">\n",
              "      <th></th>\n",
              "      <th>Predicted_Arrival_Delay</th>\n",
              "      <th>ARRIVAL_DELAY</th>\n",
              "    </tr>\n",
              "  </thead>\n",
              "  <tbody>\n",
              "    <tr>\n",
              "      <th>0</th>\n",
              "      <td>-2.642002</td>\n",
              "      <td>8.0</td>\n",
              "    </tr>\n",
              "    <tr>\n",
              "      <th>1</th>\n",
              "      <td>116.004350</td>\n",
              "      <td>113.0</td>\n",
              "    </tr>\n",
              "    <tr>\n",
              "      <th>2</th>\n",
              "      <td>-6.297173</td>\n",
              "      <td>3.0</td>\n",
              "    </tr>\n",
              "    <tr>\n",
              "      <th>3</th>\n",
              "      <td>-8.024030</td>\n",
              "      <td>-12.0</td>\n",
              "    </tr>\n",
              "    <tr>\n",
              "      <th>4</th>\n",
              "      <td>-8.297997</td>\n",
              "      <td>-3.0</td>\n",
              "    </tr>\n",
              "  </tbody>\n",
              "</table>\n",
              "</div>"
            ],
            "text/plain": [
              "   Predicted_Arrival_Delay  ARRIVAL_DELAY\n",
              "0                -2.642002            8.0\n",
              "1               116.004350          113.0\n",
              "2                -6.297173            3.0\n",
              "3                -8.024030          -12.0\n",
              "4                -8.297997           -3.0"
            ]
          },
          "metadata": {
            "tags": []
          },
          "execution_count": 29
        }
      ]
    },
    {
      "cell_type": "code",
      "metadata": {
        "id": "U34YxQG-ec-Y",
        "colab_type": "code",
        "colab": {}
      },
      "source": [
        "\n",
        "#y_axis=predicted_delay['Predicted_Arrival_Delay'][-100:]\n",
        "#y_axis2=predicted_delay['ARRIVAL_DELAY'][-100:]\n",
        "#plt.figure(figsize=(20,15))\n",
        "#plt.scatter(range(100),y_axis)\n",
        "#plt.scatter(range(100),y_axis2)\n",
        "#plt.title('Actual_ARRIVAL_DELAY vs Predicted_Arrival_Delay')\n",
        "#plt.show()"
      ],
      "execution_count": 0,
      "outputs": []
    },
    {
      "cell_type": "code",
      "metadata": {
        "id": "wZ05CkzEec7F",
        "colab_type": "code",
        "colab": {}
      },
      "source": [
        "#fig, ax = plt.subplots(figsize=(15,15))\n",
        "#y_axis=predicted_delay['Predicted_Arrival_Delay'][-100:]\n",
        "#y_axis2=predicted_delay['ARRIVAL_DELAY'][-100:]\n",
        "#ax.scatter(range(100),y_axis,label='Predicted_Arrival_Delay')\n",
        "#ax.scatter(range(100),y_axis2,label='ARRIVAL_DELAY')\n",
        "#plt.title('Actual_ARRIVAL_DELAY vs Predicted_Arrival_Delay')\n",
        "#ax.legend()\n"
      ],
      "execution_count": 0,
      "outputs": []
    },
    {
      "cell_type": "markdown",
      "metadata": {
        "id": "iWi0B0Himiji",
        "colab_type": "text"
      },
      "source": [
        "## **I have plotted the actual arrival delay vs respective predicted arrival delay of the first 100 data points of the test.It is not totally concurrent but most are quite close.**\n"
      ]
    },
    {
      "cell_type": "code",
      "metadata": {
        "id": "bsQ6WGhjec4F",
        "colab_type": "code",
        "outputId": "4746ec66-c7b4-4ece-8ab8-aa4ed74a0920",
        "colab": {
          "base_uri": "https://localhost:8080/",
          "height": 897
        }
      },
      "source": [
        "fig, ax = plt.subplots(figsize=(15,15))\n",
        "y_axis=predicted_delay['Predicted_Arrival_Delay'][:100]\n",
        "y_axis2=predicted_delay['ARRIVAL_DELAY'][:100]\n",
        "ax.plot(range(100),y_axis,label='Predicted_Arrival_Delay',marker='o',linestyle='--')\n",
        "ax.plot(range(100),y_axis2,label='ARRIVAL_DELAY',marker='o',linestyle='--')\n",
        "plt.title('Actual_ARRIVAL_DELAY vs Predicted_Arrival_Delay')\n",
        "ax.legend()\n"
      ],
      "execution_count": 31,
      "outputs": [
        {
          "output_type": "execute_result",
          "data": {
            "text/plain": [
              "<matplotlib.legend.Legend at 0x7f577f7d74a8>"
            ]
          },
          "metadata": {
            "tags": []
          },
          "execution_count": 31
        },
        {
          "output_type": "display_data",
          "data": {
            "image/png": "[encoded data removed]",
            "text/plain": [
              "<Figure size 1080x1080 with 1 Axes>"
            ]
          },
          "metadata": {
            "tags": [],
            "needs_background": "light"
          }
        }
      ]
    },
    {
      "cell_type": "code",
      "metadata": {
        "id": "P6WFTZXTec1D",
        "colab_type": "code",
        "outputId": "bd1949f2-dbd9-4526-a52b-3ffa4a718dcd",
        "colab": {
          "base_uri": "https://localhost:8080/",
          "height": 299
        }
      },
      "source": [
        "delay_train2=delay_train.copy()\n",
        "predicted_delay.reset_index(drop=True, inplace=True)\n",
        "delay_train2.reset_index(drop=True, inplace=True)\n",
        "delay_train2 = pd.concat( [delay_train2,predicted_delay['Predicted_Arrival_Delay']], axis=1) \n",
        "delay_train2.head()"
      ],
      "execution_count": 32,
      "outputs": [
        {
          "output_type": "execute_result",
          "data": {
            "text/html": [
              "<div>\n",
              "<style scoped>\n",
              "    .dataframe tbody tr th:only-of-type {\n",
              "        vertical-align: middle;\n",
              "    }\n",
              "\n",
              "    .dataframe tbody tr th {\n",
              "        vertical-align: top;\n",
              "    }\n",
              "\n",
              "    .dataframe thead th {\n",
              "        text-align: right;\n",
              "    }\n",
              "</style>\n",
              "<table border=\"1\" class=\"dataframe\">\n",
              "  <thead>\n",
              "    <tr style=\"text-align: right;\">\n",
              "      <th></th>\n",
              "      <th>Date</th>\n",
              "      <th>ORIGIN_AIRPORT</th>\n",
              "      <th>SCHEDULED_DEPARTURE</th>\n",
              "      <th>DEPARTURE_TIME</th>\n",
              "      <th>DEPARTURE_DELAY</th>\n",
              "      <th>DESTINATION_AIRPORT</th>\n",
              "      <th>SCHEDULED_ARRIVAL</th>\n",
              "      <th>ARRIVAL_TIME</th>\n",
              "      <th>ARRIVAL_DELAY</th>\n",
              "      <th>DISTANCE</th>\n",
              "      <th>AIRLINE</th>\n",
              "      <th>FLIGHT_NUMBER</th>\n",
              "      <th>TAIL_NUMBER</th>\n",
              "      <th>TAXI_IN</th>\n",
              "      <th>TAXI_OUT</th>\n",
              "      <th>AIRLINE_DELAY_NEW</th>\n",
              "      <th>LATE_AIRCRAFT_DELAY_NEW</th>\n",
              "      <th>WEATHER_DELAY_NEW</th>\n",
              "      <th>MONTH</th>\n",
              "      <th>DAY</th>\n",
              "      <th>DAY_OF_WEEK</th>\n",
              "      <th>Predicted_Arrival_Delay</th>\n",
              "    </tr>\n",
              "  </thead>\n",
              "  <tbody>\n",
              "    <tr>\n",
              "      <th>0</th>\n",
              "      <td>2015-01-12</td>\n",
              "      <td>SJC</td>\n",
              "      <td>13:35</td>\n",
              "      <td>13:44</td>\n",
              "      <td>9.0</td>\n",
              "      <td>SAN</td>\n",
              "      <td>14:50</td>\n",
              "      <td>14:58</td>\n",
              "      <td>8.0</td>\n",
              "      <td>417</td>\n",
              "      <td>WN</td>\n",
              "      <td>4200</td>\n",
              "      <td>N7744A</td>\n",
              "      <td>3.0</td>\n",
              "      <td>7.0</td>\n",
              "      <td>12.74</td>\n",
              "      <td>7.09</td>\n",
              "      <td>-1.37</td>\n",
              "      <td>1</td>\n",
              "      <td>12</td>\n",
              "      <td>1</td>\n",
              "      <td>-2.642002</td>\n",
              "    </tr>\n",
              "    <tr>\n",
              "      <th>1</th>\n",
              "      <td>2015-12-24</td>\n",
              "      <td>ATL</td>\n",
              "      <td>17:30</td>\n",
              "      <td>19:38</td>\n",
              "      <td>128.0</td>\n",
              "      <td>BWI</td>\n",
              "      <td>19:13</td>\n",
              "      <td>21:06</td>\n",
              "      <td>113.0</td>\n",
              "      <td>577</td>\n",
              "      <td>NK</td>\n",
              "      <td>824</td>\n",
              "      <td>N507NK</td>\n",
              "      <td>8.0</td>\n",
              "      <td>9.0</td>\n",
              "      <td>34.00</td>\n",
              "      <td>78.00</td>\n",
              "      <td>0.00</td>\n",
              "      <td>12</td>\n",
              "      <td>24</td>\n",
              "      <td>4</td>\n",
              "      <td>116.004350</td>\n",
              "    </tr>\n",
              "    <tr>\n",
              "      <th>2</th>\n",
              "      <td>2015-02-14</td>\n",
              "      <td>MIA</td>\n",
              "      <td>12:25</td>\n",
              "      <td>12:21</td>\n",
              "      <td>-4.0</td>\n",
              "      <td>SJU</td>\n",
              "      <td>15:58</td>\n",
              "      <td>16:01</td>\n",
              "      <td>3.0</td>\n",
              "      <td>1045</td>\n",
              "      <td>AA</td>\n",
              "      <td>1613</td>\n",
              "      <td>N3CBAA</td>\n",
              "      <td>17.0</td>\n",
              "      <td>19.0</td>\n",
              "      <td>12.67</td>\n",
              "      <td>2.46</td>\n",
              "      <td>-1.79</td>\n",
              "      <td>2</td>\n",
              "      <td>14</td>\n",
              "      <td>6</td>\n",
              "      <td>-6.297173</td>\n",
              "    </tr>\n",
              "    <tr>\n",
              "      <th>3</th>\n",
              "      <td>2015-12-02</td>\n",
              "      <td>RNO</td>\n",
              "      <td>06:20</td>\n",
              "      <td>06:16</td>\n",
              "      <td>-4.0</td>\n",
              "      <td>PHX</td>\n",
              "      <td>09:07</td>\n",
              "      <td>08:55</td>\n",
              "      <td>-12.0</td>\n",
              "      <td>601</td>\n",
              "      <td>AA</td>\n",
              "      <td>460</td>\n",
              "      <td>N807AW</td>\n",
              "      <td>3.0</td>\n",
              "      <td>17.0</td>\n",
              "      <td>12.72</td>\n",
              "      <td>2.46</td>\n",
              "      <td>-3.06</td>\n",
              "      <td>12</td>\n",
              "      <td>2</td>\n",
              "      <td>3</td>\n",
              "      <td>-8.024030</td>\n",
              "    </tr>\n",
              "    <tr>\n",
              "      <th>4</th>\n",
              "      <td>2015-03-24</td>\n",
              "      <td>MCI</td>\n",
              "      <td>08:00</td>\n",
              "      <td>08:01</td>\n",
              "      <td>1.0</td>\n",
              "      <td>MDW</td>\n",
              "      <td>09:20</td>\n",
              "      <td>09:17</td>\n",
              "      <td>-3.0</td>\n",
              "      <td>405</td>\n",
              "      <td>WN</td>\n",
              "      <td>1790</td>\n",
              "      <td>N749SW</td>\n",
              "      <td>6.0</td>\n",
              "      <td>10.0</td>\n",
              "      <td>12.67</td>\n",
              "      <td>4.24</td>\n",
              "      <td>-2.30</td>\n",
              "      <td>3</td>\n",
              "      <td>24</td>\n",
              "      <td>2</td>\n",
              "      <td>-8.297997</td>\n",
              "    </tr>\n",
              "  </tbody>\n",
              "</table>\n",
              "</div>"
            ],
            "text/plain": [
              "         Date ORIGIN_AIRPORT  ... DAY_OF_WEEK Predicted_Arrival_Delay\n",
              "0  2015-01-12            SJC  ...           1               -2.642002\n",
              "1  2015-12-24            ATL  ...           4              116.004350\n",
              "2  2015-02-14            MIA  ...           6               -6.297173\n",
              "3  2015-12-02            RNO  ...           3               -8.024030\n",
              "4  2015-03-24            MCI  ...           2               -8.297997\n",
              "\n",
              "[5 rows x 22 columns]"
            ]
          },
          "metadata": {
            "tags": []
          },
          "execution_count": 32
        }
      ]
    },
    {
      "cell_type": "code",
      "metadata": {
        "id": "X_tU1hIjjp1x",
        "colab_type": "code",
        "colab": {}
      },
      "source": [
        "edges= [(row['ORIGIN_AIRPORT'], row['DESTINATION_AIRPORT'])for item, row in delay_train2[['ORIGIN_AIRPORT', 'DESTINATION_AIRPORT']].iterrows()]\n",
        "route_graph= nx.Graph()\n",
        "route_graph.add_edges_from(edges)"
      ],
      "execution_count": 0,
      "outputs": []
    },
    {
      "cell_type": "code",
      "metadata": {
        "id": "JcynB1dYtjXE",
        "colab_type": "code",
        "outputId": "b8eb14b6-5608-4c35-9a14-2022d825330b",
        "colab": {
          "base_uri": "https://localhost:8080/",
          "height": 34
        }
      },
      "source": [
        "route_graph.size()"
      ],
      "execution_count": 34,
      "outputs": [
        {
          "output_type": "execute_result",
          "data": {
            "text/plain": [
              "5995"
            ]
          },
          "metadata": {
            "tags": []
          },
          "execution_count": 34
        }
      ]
    },
    {
      "cell_type": "markdown",
      "metadata": {
        "id": "0amR5WOrzFbO",
        "colab_type": "text"
      },
      "source": [
        "# **In the following cell source_IATA contains all the IATA of the source airports and destination_IATA contains all the IATA of the destination air ports which can be used to fin the routes.**"
      ]
    },
    {
      "cell_type": "code",
      "metadata": {
        "id": "SBvka7zU0Ho5",
        "colab_type": "code",
        "colab": {}
      },
      "source": [
        "source_IATA=[k[0] for k in edges]\n",
        "destination_IATA =[k[1] for k in edges]\n",
        "source_IATA=list(np.unique(np.array(source_IATA)))\n",
        "destination_IATA=list(np.unique(np.array(destination_IATA)))\n"
      ],
      "execution_count": 0,
      "outputs": []
    },
    {
      "cell_type": "code",
      "metadata": {
        "id": "xquxwPXFecvp",
        "colab_type": "code",
        "colab": {}
      },
      "source": [
        "delay_train2['MONTH']=delay_train2['MONTH'].replace({1:'January',\n",
        "                              2:'February',\n",
        "                              3:'March',\n",
        "                              4:'April',\n",
        "                              5:'May',\n",
        "                              6:'June',\n",
        "                              7:'July',\n",
        "                              8:'August',\n",
        "                              9:'September',\n",
        "                              10:'October',\n",
        "                              11:'November',\n",
        "                              12:'December'})\n",
        "delay_train2['DAY_OF_WEEK']=delay_train2['DAY_OF_WEEK'].replace({1:'Sunday',\n",
        "                                    2:'Monday',\n",
        "                                    3:'Tuesday',\n",
        "                                    4:'Wednesday',\n",
        "                                    5:'Thursday',\n",
        "                                    6:'Friday',\n",
        "                                    7:'Saturday'})"
      ],
      "execution_count": 0,
      "outputs": []
    },
    {
      "cell_type": "code",
      "metadata": {
        "id": "wUZ8Ab98y8Uh",
        "colab_type": "code",
        "outputId": "23100bd9-42c3-4ad4-cb0a-86668603b1ff",
        "colab": {
          "base_uri": "https://localhost:8080/",
          "height": 299
        }
      },
      "source": [
        "column_names=['Date','MONTH','DAY_OF_WEEK','ORIGIN_AIRPORT','SCHEDULED_DEPARTURE','DEPARTURE_TIME','DEPARTURE_DELAY','DESTINATION_AIRPORT','SCHEDULED_ARRIVAL','ARRIVAL_TIME','ARRIVAL_DELAY','DISTANCE','AIRLINE','FLIGHT_NUMBER','TAIL_NUMBER','TAXI_IN','TAXI_OUT','AIRLINE_DELAY_NEW','LATE_AIRCRAFT_DELAY_NEW','WEATHER_DELAY_NEW','Predicted_Arrival_Delay','DAY']\n",
        "delay_train2 = delay_train2.reindex(columns=column_names)\n",
        "delay_train2.head()"
      ],
      "execution_count": 37,
      "outputs": [
        {
          "output_type": "execute_result",
          "data": {
            "text/html": [
              "<div>\n",
              "<style scoped>\n",
              "    .dataframe tbody tr th:only-of-type {\n",
              "        vertical-align: middle;\n",
              "    }\n",
              "\n",
              "    .dataframe tbody tr th {\n",
              "        vertical-align: top;\n",
              "    }\n",
              "\n",
              "    .dataframe thead th {\n",
              "        text-align: right;\n",
              "    }\n",
              "</style>\n",
              "<table border=\"1\" class=\"dataframe\">\n",
              "  <thead>\n",
              "    <tr style=\"text-align: right;\">\n",
              "      <th></th>\n",
              "      <th>Date</th>\n",
              "      <th>MONTH</th>\n",
              "      <th>DAY_OF_WEEK</th>\n",
              "      <th>ORIGIN_AIRPORT</th>\n",
              "      <th>SCHEDULED_DEPARTURE</th>\n",
              "      <th>DEPARTURE_TIME</th>\n",
              "      <th>DEPARTURE_DELAY</th>\n",
              "      <th>DESTINATION_AIRPORT</th>\n",
              "      <th>SCHEDULED_ARRIVAL</th>\n",
              "      <th>ARRIVAL_TIME</th>\n",
              "      <th>ARRIVAL_DELAY</th>\n",
              "      <th>DISTANCE</th>\n",
              "      <th>AIRLINE</th>\n",
              "      <th>FLIGHT_NUMBER</th>\n",
              "      <th>TAIL_NUMBER</th>\n",
              "      <th>TAXI_IN</th>\n",
              "      <th>TAXI_OUT</th>\n",
              "      <th>AIRLINE_DELAY_NEW</th>\n",
              "      <th>LATE_AIRCRAFT_DELAY_NEW</th>\n",
              "      <th>WEATHER_DELAY_NEW</th>\n",
              "      <th>Predicted_Arrival_Delay</th>\n",
              "      <th>DAY</th>\n",
              "    </tr>\n",
              "  </thead>\n",
              "  <tbody>\n",
              "    <tr>\n",
              "      <th>0</th>\n",
              "      <td>2015-01-12</td>\n",
              "      <td>January</td>\n",
              "      <td>Sunday</td>\n",
              "      <td>SJC</td>\n",
              "      <td>13:35</td>\n",
              "      <td>13:44</td>\n",
              "      <td>9.0</td>\n",
              "      <td>SAN</td>\n",
              "      <td>14:50</td>\n",
              "      <td>14:58</td>\n",
              "      <td>8.0</td>\n",
              "      <td>417</td>\n",
              "      <td>WN</td>\n",
              "      <td>4200</td>\n",
              "      <td>N7744A</td>\n",
              "      <td>3.0</td>\n",
              "      <td>7.0</td>\n",
              "      <td>12.74</td>\n",
              "      <td>7.09</td>\n",
              "      <td>-1.37</td>\n",
              "      <td>-2.642002</td>\n",
              "      <td>12</td>\n",
              "    </tr>\n",
              "    <tr>\n",
              "      <th>1</th>\n",
              "      <td>2015-12-24</td>\n",
              "      <td>December</td>\n",
              "      <td>Wednesday</td>\n",
              "      <td>ATL</td>\n",
              "      <td>17:30</td>\n",
              "      <td>19:38</td>\n",
              "      <td>128.0</td>\n",
              "      <td>BWI</td>\n",
              "      <td>19:13</td>\n",
              "      <td>21:06</td>\n",
              "      <td>113.0</td>\n",
              "      <td>577</td>\n",
              "      <td>NK</td>\n",
              "      <td>824</td>\n",
              "      <td>N507NK</td>\n",
              "      <td>8.0</td>\n",
              "      <td>9.0</td>\n",
              "      <td>34.00</td>\n",
              "      <td>78.00</td>\n",
              "      <td>0.00</td>\n",
              "      <td>116.004350</td>\n",
              "      <td>24</td>\n",
              "    </tr>\n",
              "    <tr>\n",
              "      <th>2</th>\n",
              "      <td>2015-02-14</td>\n",
              "      <td>February</td>\n",
              "      <td>Friday</td>\n",
              "      <td>MIA</td>\n",
              "      <td>12:25</td>\n",
              "      <td>12:21</td>\n",
              "      <td>-4.0</td>\n",
              "      <td>SJU</td>\n",
              "      <td>15:58</td>\n",
              "      <td>16:01</td>\n",
              "      <td>3.0</td>\n",
              "      <td>1045</td>\n",
              "      <td>AA</td>\n",
              "      <td>1613</td>\n",
              "      <td>N3CBAA</td>\n",
              "      <td>17.0</td>\n",
              "      <td>19.0</td>\n",
              "      <td>12.67</td>\n",
              "      <td>2.46</td>\n",
              "      <td>-1.79</td>\n",
              "      <td>-6.297173</td>\n",
              "      <td>14</td>\n",
              "    </tr>\n",
              "    <tr>\n",
              "      <th>3</th>\n",
              "      <td>2015-12-02</td>\n",
              "      <td>December</td>\n",
              "      <td>Tuesday</td>\n",
              "      <td>RNO</td>\n",
              "      <td>06:20</td>\n",
              "      <td>06:16</td>\n",
              "      <td>-4.0</td>\n",
              "      <td>PHX</td>\n",
              "      <td>09:07</td>\n",
              "      <td>08:55</td>\n",
              "      <td>-12.0</td>\n",
              "      <td>601</td>\n",
              "      <td>AA</td>\n",
              "      <td>460</td>\n",
              "      <td>N807AW</td>\n",
              "      <td>3.0</td>\n",
              "      <td>17.0</td>\n",
              "      <td>12.72</td>\n",
              "      <td>2.46</td>\n",
              "      <td>-3.06</td>\n",
              "      <td>-8.024030</td>\n",
              "      <td>2</td>\n",
              "    </tr>\n",
              "    <tr>\n",
              "      <th>4</th>\n",
              "      <td>2015-03-24</td>\n",
              "      <td>March</td>\n",
              "      <td>Monday</td>\n",
              "      <td>MCI</td>\n",
              "      <td>08:00</td>\n",
              "      <td>08:01</td>\n",
              "      <td>1.0</td>\n",
              "      <td>MDW</td>\n",
              "      <td>09:20</td>\n",
              "      <td>09:17</td>\n",
              "      <td>-3.0</td>\n",
              "      <td>405</td>\n",
              "      <td>WN</td>\n",
              "      <td>1790</td>\n",
              "      <td>N749SW</td>\n",
              "      <td>6.0</td>\n",
              "      <td>10.0</td>\n",
              "      <td>12.67</td>\n",
              "      <td>4.24</td>\n",
              "      <td>-2.30</td>\n",
              "      <td>-8.297997</td>\n",
              "      <td>24</td>\n",
              "    </tr>\n",
              "  </tbody>\n",
              "</table>\n",
              "</div>"
            ],
            "text/plain": [
              "         Date     MONTH  ... Predicted_Arrival_Delay DAY\n",
              "0  2015-01-12   January  ...               -2.642002  12\n",
              "1  2015-12-24  December  ...              116.004350  24\n",
              "2  2015-02-14  February  ...               -6.297173  14\n",
              "3  2015-12-02  December  ...               -8.024030   2\n",
              "4  2015-03-24     March  ...               -8.297997  24\n",
              "\n",
              "[5 rows x 22 columns]"
            ]
          },
          "metadata": {
            "tags": []
          },
          "execution_count": 37
        }
      ]
    },
    {
      "cell_type": "code",
      "metadata": {
        "id": "X60aRWGmQ8E_",
        "colab_type": "code",
        "colab": {}
      },
      "source": [
        ""
      ],
      "execution_count": 0,
      "outputs": []
    },
    {
      "cell_type": "markdown",
      "metadata": {
        "id": "WuEl3AqJ2Tab",
        "colab_type": "text"
      },
      "source": [
        "# **Following are the fuctions reqired to get the desired result.**"
      ]
    },
    {
      "cell_type": "code",
      "metadata": {
        "id": "UyAl1RnG0HmZ",
        "colab_type": "code",
        "colab": {}
      },
      "source": [
        "import math\n",
        "def compute_flight_distance(origin, destination):\n",
        "    '''\n",
        "    haversine formula for flight path computation\n",
        "    '''\n",
        "    lat1, lon1 = origin\n",
        "    lat2, lon2 = destination\n",
        "    radius = 6371 # km\n",
        "\n",
        "    dlat = math.radians(lat2-lat1)\n",
        "    dlon = math.radians(lon2-lon1)\n",
        "    a = math.sin(dlat/2) * math.sin(dlat/2) + math.cos(math.radians(lat1)) \\\n",
        "        * math.cos(math.radians(lat2)) * math.sin(dlon/2) * math.sin(dlon/2)\n",
        "    c = 2 * math.atan2(math.sqrt(a), math.sqrt(1-a))\n",
        "    d = radius * c\n",
        "\n",
        "    return(d)\n",
        "def find_all_shortest_paths(graph, source, destination):\n",
        "    '''\n",
        "    finds all the possible shortest paths for flying between two locations\n",
        "    '''\n",
        "    return([p for p in nx.all_shortest_paths(graph, source=source, target=destination)])"
      ],
      "execution_count": 0,
      "outputs": []
    },
    {
      "cell_type": "code",
      "metadata": {
        "id": "amRjxOnV0Hja",
        "colab_type": "code",
        "colab": {}
      },
      "source": [
        "def get_all_shortest_paths_airport_names(route_graph, airports, source, destination):\n",
        "    airports= airports.set_index('IATA_CODE')\n",
        "    entries= []\n",
        "    for path in find_all_shortest_paths(route_graph, source, destination):\n",
        "        entries.append([dict(airports.loc[item])['CITY'] for item in path])\n",
        "    return entries"
      ],
      "execution_count": 0,
      "outputs": []
    },
    {
      "cell_type": "code",
      "metadata": {
        "id": "QtJVKUKt7gH0",
        "colab_type": "code",
        "colab": {}
      },
      "source": [
        "def get_all_shortest_paths_IATA(route_graph, airports, source, destination):\n",
        "    airports= airports.set_index('IATA_CODE')#this is important because later we try to extract city names using these IATA names\n",
        "    \n",
        "    entries2=find_all_shortest_paths(route_graph, source, destination)\n",
        "    \n",
        "    return entries2"
      ],
      "execution_count": 0,
      "outputs": []
    },
    {
      "cell_type": "code",
      "metadata": {
        "id": "5M9cpK7fvn4X",
        "colab_type": "code",
        "colab": {}
      },
      "source": [
        "def find_distance(airports,get_entries_iata):\n",
        "  airports2= airports.copy()\n",
        "  airports2=airports2.set_index('IATA_CODE')\n",
        "  dist=[]\n",
        "\n",
        "  for item in get_entries_iata:\n",
        "    a=0.0\n",
        "    for k in range(len(item)-1):\n",
        "      a=a+compute_flight_distance((dict(airports2.loc[item[k]])['LATITUDE'],dict(airports2.loc[item[k]])['LONGITUDE']),(dict(airports2.loc[item[k+1]])['LATITUDE'],dict(airports2.loc[item[k+1]])['LONGITUDE']))\n",
        "        #a=a+compute_flight_distance((dict(airports.loc[airports['IATA']==item[k]])['Lat'],dict(airports.loc[airports['IATA']==item[k]])['Long']),(dict(airports.loc[airports['IATA']==item[k+1]])['Lat'].mean(),dict(airports.loc[airports['IATA']==item[k+1]])['Long'].mean()))\n",
        "      \n",
        "    dist.append(a) \n",
        "  return dist"
      ],
      "execution_count": 0,
      "outputs": []
    },
    {
      "cell_type": "code",
      "metadata": {
        "id": "yk7bYb0ww_Ed",
        "colab_type": "code",
        "colab": {}
      },
      "source": [
        "def get_delay_route_sum(get_entries_iata,month):\n",
        "  delay_route=[]\n",
        "  for k in range(len(get_entries_iata)):\n",
        "    delay_sum=0\n",
        "    for i in range(len(get_entries_iata[k])-1):\n",
        "      if(len(get_entries_iata[k])==2):\n",
        "        delay_sum=delay_sum+delay_train2.loc[(delay_train2['ORIGIN_AIRPORT']==get_entries_iata[k][i]) & \n",
        "                              (delay_train2['DESTINATION_AIRPORT']==get_entries_iata[k][i+1]) & (delay_train2['MONTH']==month) ]['Predicted_Arrival_Delay'].min()\n",
        "      else:\n",
        "        delay_sum=delay_sum+delay_train2.loc[(delay_train2['ORIGIN_AIRPORT']==get_entries_iata[k][i]) & \n",
        "                              (delay_train2['DESTINATION_AIRPORT']==get_entries_iata[k][i+1]) & (delay_train2['MONTH']==month) ]['Predicted_Arrival_Delay'].mean()\n",
        "    delay_route.append(delay_sum) \n",
        "\n",
        "  return delay_route                           "
      ],
      "execution_count": 0,
      "outputs": []
    },
    {
      "cell_type": "code",
      "metadata": {
        "id": "irLrelnguRq2",
        "colab_type": "code",
        "colab": {}
      },
      "source": [
        "def master_function(source_airport_IATA,destination_airport_IATA,month,airports):\n",
        "  get_entries_airport=[]\n",
        "  get_entries_airport=get_all_shortest_paths_airport_names(route_graph, airports,source_airport_IATA,destination_airport_IATA)\n",
        "  get_entries_iata=[]\n",
        "  get_entries_iata=get_all_shortest_paths_IATA(route_graph, airports,source_airport_IATA,destination_airport_IATA) \n",
        "  dist=[]\n",
        "  dist=find_distance(airports,get_entries_iata)\n",
        "  delay_route=[]\n",
        "  delay_route= get_delay_route_sum(get_entries_iata,month)\n",
        "  delay_route = ['NO FLIGHT IN THIS ROUTE IN THE ENTERED MONTH.' if math.isnan(x) else x for x in delay_route]\n",
        "  #print(get_entries_airport)\n",
        "  #print(get_entries_iata)\n",
        "  #print(dist)\n",
        "  #print(delay_route)\n",
        "  all_in_one=list(zip(get_entries_airport,get_entries_iata,dist,delay_route))\n",
        "  return all_in_one\n"
      ],
      "execution_count": 0,
      "outputs": []
    },
    {
      "cell_type": "markdown",
      "metadata": {
        "id": "F9Oxofy91SEa",
        "colab_type": "text"
      },
      "source": [
        "## **Here is three consecutice example how we would get the output.**"
      ]
    },
    {
      "cell_type": "markdown",
      "metadata": {
        "id": "uHnAtg3e2HZ-",
        "colab_type": "text"
      },
      "source": [
        "**1.**"
      ]
    },
    {
      "cell_type": "code",
      "metadata": {
        "id": "9mj0XpzWuRnG",
        "colab_type": "code",
        "outputId": "ffb63c74-0399-4378-ab4f-c4669659724f",
        "colab": {
          "base_uri": "https://localhost:8080/",
          "height": 439
        }
      },
      "source": [
        "source_airport_IATA='HSV'\n",
        "destination_airport_IATA='WRG'\n",
        "month='June'\n",
        "all_in_one=master_function(source_airport_IATA,destination_airport_IATA,month,airports)\n",
        "print('Shortest {} routes between {} and {} in the format [Cities],[respective city IATA],[Total distance of the route],[Maximum predicted arrival delay in the whole route]-'.format(len(all_in_one),source_airport_IATA,destination_airport_IATA))\n",
        "for i in range(len(all_in_one)): \n",
        "  print(all_in_one[i])\n",
        "  print()\n",
        "if len(all_in_one[0][0])==2:\n",
        "  print('Flights avaailable in {} between {} and {} is a direct flight so the distance in all the routes are same.'.format(month,source_airport_IATA,destination_airport_IATA))\n",
        "  print()\n",
        "  print('Following flights are available on the selected month-')\n",
        "  print(delay_train2.loc[(delay_train2['ORIGIN_AIRPORT']=='SAN') & \n",
        "                           (delay_train2['DESTINATION_AIRPORT']=='MIA') & (delay_train2['MONTH']=='December')][['MONTH','DAY','DAY_OF_WEEK','ORIGIN_AIRPORT','SCHEDULED_DEPARTURE','ARRIVAL_TIME','DISTANCE','AIRLINE','FLIGHT_NUMBER']])\n",
        "  print('Flight with minimum delay and traffic is-')\n",
        "  print(all_in_one)\n",
        "else:\n",
        "  print()\n",
        "  print('The shortest path(based on distance) between {} and {} and also flight available in {} is-'.format(source_airport_IATA,destination_airport_IATA,month))\n",
        "  def sortSecond(val): \n",
        "    if type(val[3])==float:\n",
        "      return math.ceil(val[2])  \n",
        "    else:\n",
        "      return 999999999999999\n",
        "  all_in_one.sort(key = sortSecond,reverse=False)\n",
        "  dist_sorted=all_in_one\n",
        "  print(dist_sorted[0])\n",
        "  print()\n",
        "  print('The shortest path between {} and {} which has least delays and also flight available in {} is-'.format(source_airport_IATA,destination_airport_IATA,month))\n",
        "  all_in_one2=all_in_one\n",
        "  def sortThird(val): \n",
        "    if type(val[3])==float:\n",
        "      return math.ceil(val[3]) \n",
        "    else:\n",
        "      return 999999999999999\n",
        "  all_in_one2.sort(key = sortThird,reverse=False)\n",
        "  delay_sorted=all_in_one2 \n",
        "  print(delay_sorted[0])\n",
        "print('*****Negetive delay means filght has reached early.*****')"
      ],
      "execution_count": 53,
      "outputs": [
        {
          "output_type": "stream",
          "text": [
            "Shortest 8 routes between HSV and WRG in the format [Cities],[respective city IATA],[Total distance of the route],[Maximum predicted arrival delay in the whole route]-\n",
            "(['Huntsville', 'Chicago', 'Seattle', 'Ketchikan', 'Wrangell'], ['HSV', 'ORD', 'SEA', 'KTN', 'WRG'], 4808.50208293244, 49.99314239736507)\n",
            "\n",
            "(['Huntsville', 'Atlanta', 'Seattle', 'Ketchikan', 'Wrangell'], ['HSV', 'ATL', 'SEA', 'KTN', 'WRG'], 4972.441513407116, 11.120025302129472)\n",
            "\n",
            "(['Huntsville', 'Houston', 'Seattle', 'Ketchikan', 'Wrangell'], ['HSV', 'IAH', 'SEA', 'KTN', 'WRG'], 5195.423568883605, -5.915278259936391)\n",
            "\n",
            "(['Huntsville', 'Denver', 'Seattle', 'Ketchikan', 'Wrangell'], ['HSV', 'DEN', 'SEA', 'KTN', 'WRG'], 4553.581252049894, 7.659349593144624)\n",
            "\n",
            "(['Huntsville', 'Detroit', 'Seattle', 'Ketchikan', 'Wrangell'], ['HSV', 'DTW', 'SEA', 'KTN', 'WRG'], 5211.124932135666, 'NO FLIGHT IN THIS ROUTE IN THE ENTERED MONTH.')\n",
            "\n",
            "(['Huntsville', 'Dallas-Fort Worth', 'Seattle', 'Ketchikan', 'Wrangell'], ['HSV', 'DFW', 'SEA', 'KTN', 'WRG'], 4860.963854149714, 47.755180758310544)\n",
            "\n",
            "(['Huntsville', 'Arlington', 'Seattle', 'Ketchikan', 'Wrangell'], ['HSV', 'DCA', 'SEA', 'KTN', 'WRG'], 5947.888843018394, 'NO FLIGHT IN THIS ROUTE IN THE ENTERED MONTH.')\n",
            "\n",
            "(['Huntsville', 'Chantilly', 'Seattle', 'Ketchikan', 'Wrangell'], ['HSV', 'IAD', 'SEA', 'KTN', 'WRG'], 5883.467998239006, 'NO FLIGHT IN THIS ROUTE IN THE ENTERED MONTH.')\n",
            "\n",
            "\n",
            "The shortest path(based on distance) between HSV and WRG and also flight available in June is-\n",
            "(['Huntsville', 'Denver', 'Seattle', 'Ketchikan', 'Wrangell'], ['HSV', 'DEN', 'SEA', 'KTN', 'WRG'], 4553.581252049894, 7.659349593144624)\n",
            "\n",
            "The shortest path between HSV and WRG which has least delays and also flight available in June is-\n",
            "(['Huntsville', 'Houston', 'Seattle', 'Ketchikan', 'Wrangell'], ['HSV', 'IAH', 'SEA', 'KTN', 'WRG'], 5195.423568883605, -5.915278259936391)\n",
            "*****Negetive delay means filght has reached early.*****\n"
          ],
          "name": "stdout"
        }
      ]
    },
    {
      "cell_type": "markdown",
      "metadata": {
        "id": "eWki1Xst2pVu",
        "colab_type": "text"
      },
      "source": [
        "**2.**"
      ]
    },
    {
      "cell_type": "code",
      "metadata": {
        "id": "nibsZK75y6wZ",
        "colab_type": "code",
        "colab": {
          "base_uri": "https://localhost:8080/",
          "height": 650
        },
        "outputId": "0947f454-9999-4f25-92f2-4a3cd379dd67"
      },
      "source": [
        "source_airport_IATA='ANC'\n",
        "destination_airport_IATA='CLT'\n",
        "month='August'\n",
        "all_in_one=master_function(source_airport_IATA,destination_airport_IATA,month,airports)\n",
        "print('Shortest {} routes between {} and {} in the format [Cities],[respective city IATA],[Total distance of the route],[Maximum predicted arrival delay in the whole route]-'.format(len(all_in_one),source_airport_IATA,destination_airport_IATA))\n",
        "for i in range(len(all_in_one)): \n",
        "  print(all_in_one[i])\n",
        "  print()\n",
        "if len(all_in_one[0][0])==2:\n",
        "  print('Flights avaailable in {} between {} and {} is a direct flight so the distance in all the routes are same.'.format(month,source_airport_IATA,destination_airport_IATA))\n",
        "  print()\n",
        "  print('Following flights are available on the selected month-')\n",
        "  print(delay_train2.loc[(delay_train2['ORIGIN_AIRPORT']=='SAN') & \n",
        "                           (delay_train2['DESTINATION_AIRPORT']=='MIA') & (delay_train2['MONTH']=='December')][['MONTH','DAY','DAY_OF_WEEK','ORIGIN_AIRPORT','SCHEDULED_DEPARTURE','ARRIVAL_TIME','DISTANCE','AIRLINE','FLIGHT_NUMBER']])\n",
        "  print('Flight with minimum delay and traffic is-')\n",
        "  print(all_in_one)\n",
        "else:\n",
        "  print()\n",
        "  print('The shortest path(based on distance) between {} and {} and also flight available in {} is-'.format(source_airport_IATA,destination_airport_IATA,month))\n",
        "  def sortSecond(val): \n",
        "    if type(val[3])==float:\n",
        "      return math.ceil(val[2])  \n",
        "    else:\n",
        "      return 999999999999999\n",
        "  all_in_one.sort(key = sortSecond,reverse=False)\n",
        "  dist_sorted=all_in_one\n",
        "  print(dist_sorted[0])\n",
        "  print()\n",
        "  print('The shortest path between {} and {} which has least delays and also flight available in {} is-'.format(source_airport_IATA,destination_airport_IATA,month))\n",
        "  all_in_one2=all_in_one\n",
        "  def sortThird(val): \n",
        "    if type(val[3])==float:\n",
        "      return math.ceil(val[3]) \n",
        "    else:\n",
        "      return 999999999999999\n",
        "  all_in_one2.sort(key = sortThird,reverse=False)\n",
        "  delay_sorted=all_in_one2 \n",
        "  print(delay_sorted[0])\n",
        "print('*****Negetive delay means filght has reached early.*****')"
      ],
      "execution_count": 58,
      "outputs": [
        {
          "output_type": "stream",
          "text": [
            "Shortest 14 routes between ANC and CLT in the format [Cities],[respective city IATA],[Total distance of the route],[Maximum predicted arrival delay in the whole route]-\n",
            "(['Anchorage', 'Minneapolis', 'Charlotte'], ['ANC', 'MSP', 'CLT'], 5538.065085324835, -5.313390890381272)\n",
            "\n",
            "(['Anchorage', 'Seattle', 'Charlotte'], ['ANC', 'SEA', 'CLT'], 5986.058005395589, 10.347494268359846)\n",
            "\n",
            "(['Anchorage', 'Los Angeles', 'Charlotte'], ['ANC', 'LAX', 'CLT'], 7183.341555426978, -2.6266533122971945)\n",
            "\n",
            "(['Anchorage', 'San Francisco', 'Charlotte'], ['ANC', 'SFO', 'CLT'], 6930.87336036516, -3.918965026835437)\n",
            "\n",
            "(['Anchorage', 'Chicago', 'Charlotte'], ['ANC', 'ORD', 'CLT'], 5532.96277687271, 31.51587530198377)\n",
            "\n",
            "(['Anchorage', 'Portland', 'Charlotte'], ['ANC', 'PDX', 'CLT'], 6141.210025340336, -5.536467462990215)\n",
            "\n",
            "(['Anchorage', 'Atlanta', 'Charlotte'], ['ANC', 'ATL', 'CLT'], 5852.436865225026, -3.394611922734476)\n",
            "\n",
            "(['Anchorage', 'Phoenix', 'Charlotte'], ['ANC', 'PHX', 'CLT'], 6949.65236882099, 12.248602154027722)\n",
            "\n",
            "(['Anchorage', 'Denver', 'Charlotte'], ['ANC', 'DEN', 'CLT'], 6011.30866424239, 14.560605153615494)\n",
            "\n",
            "(['Anchorage', 'Salt Lake City', 'Charlotte'], ['ANC', 'SLC', 'CLT'], 6186.543143513518, -3.9322889091562274)\n",
            "\n",
            "(['Anchorage', 'Las Vegas', 'Charlotte'], ['ANC', 'LAS', 'CLT'], 6780.055247716777, 'NO FLIGHT IN THIS ROUTE IN THE ENTERED MONTH.')\n",
            "\n",
            "(['Anchorage', 'Houston', 'Charlotte'], ['ANC', 'IAH', 'CLT'], 6715.899000653841, 34.90191328639698)\n",
            "\n",
            "(['Anchorage', 'Dallas-Fort Worth', 'Charlotte'], ['ANC', 'DFW', 'CLT'], 6392.545568159743, 43.06072300949095)\n",
            "\n",
            "(['Anchorage', 'Newark', 'Charlotte'], ['ANC', 'EWR', 'CLT'], 6259.407117010728, 21.35866746623611)\n",
            "\n",
            "\n",
            "The shortest path(based on distance) between ANC and CLT and also flight available in August is-\n",
            "(['Anchorage', 'Chicago', 'Charlotte'], ['ANC', 'ORD', 'CLT'], 5532.96277687271, 31.51587530198377)\n",
            "\n",
            "The shortest path between ANC and CLT which has least delays and also flight available in August is-\n",
            "(['Anchorage', 'Minneapolis', 'Charlotte'], ['ANC', 'MSP', 'CLT'], 5538.065085324835, -5.313390890381272)\n",
            "*****Negetive delay means filght has reached early.*****\n"
          ],
          "name": "stdout"
        }
      ]
    },
    {
      "cell_type": "markdown",
      "metadata": {
        "id": "GQovzJG12tlC",
        "colab_type": "text"
      },
      "source": [
        "**3.When there is a direct route between source and destination.**"
      ]
    },
    {
      "cell_type": "code",
      "metadata": {
        "id": "G0rwWDM3ygsi",
        "colab_type": "code",
        "outputId": "827a65b5-6425-49f4-9ebc-a962839072f5",
        "colab": {
          "base_uri": "https://localhost:8080/",
          "height": 386
        }
      },
      "source": [
        "source_airport_IATA='SAN'\n",
        "destination_airport_IATA='MIA'\n",
        "month='June'\n",
        "all_in_one=master_function(source_airport_IATA,destination_airport_IATA,month,airports)\n",
        "print('Shortest {} routes between {} and {} in the format [Cities],[respective city IATA],[Total distance of the route],[Maximum predicted arrival delay in the whole route]-'.format(len(all_in_one),source_airport_IATA,destination_airport_IATA))\n",
        "for i in range(len(all_in_one)): \n",
        "  print(all_in_one[i])\n",
        "  print()\n",
        "if len(all_in_one[0][0])==2:\n",
        "  print('Flights avaailable in {} between {} and {} is a direct flight so the distance in all the routes are same.'.format(month,source_airport_IATA,destination_airport_IATA))\n",
        "  print()\n",
        "  print('Following flights are available on the selected month-')\n",
        "  print()\n",
        "  print(delay_train2.loc[(delay_train2['ORIGIN_AIRPORT']==source_airport_IATA) & \n",
        "                           (delay_train2['DESTINATION_AIRPORT']==destination_airport_IATA) & (delay_train2['MONTH']==month)][['MONTH','DAY','DAY_OF_WEEK','ORIGIN_AIRPORT','SCHEDULED_DEPARTURE','ARRIVAL_TIME','Predicted_Arrival_Delay','DISTANCE','AIRLINE','FLIGHT_NUMBER']])\n",
        "  print()\n",
        "  print()\n",
        "  print('Flight with minimum delay and traffic is-')\n",
        "  print(delay_train2.loc[(delay_train2['ORIGIN_AIRPORT']==source_airport_IATA) & \n",
        "                           (delay_train2['DESTINATION_AIRPORT']==destination_airport_IATA) & (delay_train2['MONTH']==month) & (delay_train2['Predicted_Arrival_Delay']==all_in_one[0][3])][['MONTH','DAY','DAY_OF_WEEK','ORIGIN_AIRPORT','SCHEDULED_DEPARTURE','ARRIVAL_TIME','Predicted_Arrival_Delay','DISTANCE','AIRLINE','FLIGHT_NUMBER']])\n",
        "else:\n",
        "  print()\n",
        "  print('The shortest path(based on distance) between {} and {} and also flight available in {} is-'.format(source_airport_IATA,destination_airport_IATA,month))\n",
        "  def sortSecond(val): \n",
        "    if type(val[3])==float:\n",
        "      return math.ceil(val[2])  \n",
        "    else:\n",
        "      return 999999999999999\n",
        "  all_in_one.sort(key = sortSecond,reverse=False)\n",
        "  dist_sorted=all_in_one\n",
        "  print(dist_sorted[0])\n",
        "  print()\n",
        "  print('The shortest path between {} and {} which has least delays and also flight available in {} is-'.format(source_airport_IATA,destination_airport_IATA,month))\n",
        "  all_in_one2=all_in_one\n",
        "  def sortThird(val): \n",
        "    if type(val[3])==float:\n",
        "      return math.ceil(val[3]) \n",
        "    else:\n",
        "      return 999999999999999\n",
        "  all_in_one2.sort(key = sortThird,reverse=False)\n",
        "  delay_sorted=all_in_one2 \n",
        "  print(delay_sorted[0])\n",
        "print('*****Negetive delay means filght has reached early.*****')"
      ],
      "execution_count": 52,
      "outputs": [
        {
          "output_type": "stream",
          "text": [
            "Shortest 1 routes between SAN and MIA in the format [Cities],[respective city IATA],[Total distance of the route],[Maximum predicted arrival delay in the whole route]-\n",
            "(['San Diego', 'Miami'], ['SAN', 'MIA'], 3642.521040255352, -15.747400521769856)\n",
            "\n",
            "Flights avaailable in June between SAN and MIA is a direct flight so the distance in all the routes are same.\n",
            "\n",
            "Following flights are available on the selected month-\n",
            "\n",
            "        MONTH  DAY DAY_OF_WEEK ORIGIN_AIRPORT SCHEDULED_DEPARTURE ARRIVAL_TIME  Predicted_Arrival_Delay  DISTANCE AIRLINE  FLIGHT_NUMBER\n",
            "361638   June    5    Thursday            SAN               22:10        19:40               778.202482      2267      AA           1042\n",
            "366300   June    8      Sunday            SAN               22:10        05:44               -14.893415      2267      AA           1042\n",
            "567766   June   22      Sunday            SAN               22:10        06:10               -10.104893      2267      AA           1042\n",
            "961916   June   11   Wednesday            SAN               22:10        05:37               -15.747401      2267      AA           1042\n",
            "980085   June   23      Monday            SAN               22:10        06:16                 1.275488      2267      AA           1042\n",
            "1017694  June   20      Friday            SAN               22:10        05:53               -11.327473      2267      AA           1042\n",
            "1119232  June   30      Monday            SAN               22:10        06:13                -7.689058      2267      AA           1042\n",
            "\n",
            "\n",
            "Flight with minimum delay and traffic is-\n",
            "       MONTH  DAY DAY_OF_WEEK ORIGIN_AIRPORT SCHEDULED_DEPARTURE ARRIVAL_TIME  Predicted_Arrival_Delay  DISTANCE AIRLINE  FLIGHT_NUMBER\n",
            "961916  June   11   Wednesday            SAN               22:10        05:37               -15.747401      2267      AA           1042\n",
            "Negetive delay means filght has reached early.\n"
          ],
          "name": "stdout"
        }
      ]
    },
    {
      "cell_type": "markdown",
      "metadata": {
        "id": "PUNTwKnq0l_N",
        "colab_type": "text"
      },
      "source": [
        "# **Run the next part and enter source and destination IATA and month of travel to get the shortest routes**"
      ]
    },
    {
      "cell_type": "code",
      "metadata": {
        "id": "gdPdZZuVzG03",
        "colab_type": "code",
        "colab": {
          "base_uri": "https://localhost:8080/",
          "height": 703
        },
        "outputId": "481bc0c3-ef45-489d-883c-477af84ad0aa"
      },
      "source": [
        "source_airport_IATA=input(\"Enter source IATA(all capital)- \")\n",
        "destination_airport_IATA=input(\"Enter destination IATA(all capital)- \")\n",
        "month=input(\"Enter month of travel(only first letter capital)- \")\n",
        "all_in_one=master_function(source_airport_IATA,destination_airport_IATA,month,airports)\n",
        "print('Shortest {} routes between {} and {} in the format [Cities],[respective city IATA],[Total distance of the route],[Maximum predicted arrival delay in the whole route]-'.format(len(all_in_one),source_airport_IATA,destination_airport_IATA))\n",
        "for i in range(len(all_in_one)): \n",
        "  print(all_in_one[i])\n",
        "  print()\n",
        "if len(all_in_one[0][0])==2:\n",
        "  print('Flights avaailable in {} between {} and {} is a direct flight so the distance in all the routes are same.'.format(month,source_airport_IATA,destination_airport_IATA))\n",
        "  print()\n",
        "  print('Following flights are available on the selected month-')\n",
        "  print(delay_train2.loc[(delay_train2['ORIGIN_AIRPORT']=='SAN') & \n",
        "                           (delay_train2['DESTINATION_AIRPORT']=='MIA') & (delay_train2['MONTH']=='December')][['MONTH','DAY','DAY_OF_WEEK','ORIGIN_AIRPORT','SCHEDULED_DEPARTURE','ARRIVAL_TIME','DISTANCE','AIRLINE','FLIGHT_NUMBER']])\n",
        "  print('Flight with minimum delay and traffic is-')\n",
        "  print(all_in_one)\n",
        "else:\n",
        "  print()\n",
        "  print('The shortest path(based on distance) between {} and {} and also flight available in {} is-'.format(source_airport_IATA,destination_airport_IATA,month))\n",
        "  def sortSecond(val): \n",
        "    if type(val[3])==float:\n",
        "      return math.ceil(val[2])  \n",
        "    else:\n",
        "      return 999999999999999\n",
        "  all_in_one.sort(key = sortSecond,reverse=False)\n",
        "  dist_sorted=all_in_one\n",
        "  print(dist_sorted[0])\n",
        "  print()\n",
        "  print('The shortest path between {} and {} which has least delays and also flight available in {} is-'.format(source_airport_IATA,destination_airport_IATA,month))\n",
        "  all_in_one2=all_in_one\n",
        "  def sortThird(val): \n",
        "    if type(val[3])==float:\n",
        "      return math.ceil(val[3]) \n",
        "    else:\n",
        "      return 999999999999999\n",
        "  all_in_one2.sort(key = sortThird,reverse=False)\n",
        "  delay_sorted=all_in_one2 \n",
        "  print(delay_sorted[0])\n",
        "print('*****Negetive delay means filght has reached early.*****')"
      ],
      "execution_count": 57,
      "outputs": [
        {
          "output_type": "stream",
          "text": [
            "Enter source IATA(all capital)- ANC\n",
            "Enter destination IATA(all capital)- CLT\n",
            "Enter month of travel(only first letter capital)- August\n",
            "Shortest 14 routes between ANC and CLT in the format [Cities],[respective city IATA],[Total distance of the route],[Maximum predicted arrival delay in the whole route]-\n",
            "(['Anchorage', 'Minneapolis', 'Charlotte'], ['ANC', 'MSP', 'CLT'], 5538.065085324835, -5.313390890381272)\n",
            "\n",
            "(['Anchorage', 'Seattle', 'Charlotte'], ['ANC', 'SEA', 'CLT'], 5986.058005395589, 10.347494268359846)\n",
            "\n",
            "(['Anchorage', 'Los Angeles', 'Charlotte'], ['ANC', 'LAX', 'CLT'], 7183.341555426978, -2.6266533122971945)\n",
            "\n",
            "(['Anchorage', 'San Francisco', 'Charlotte'], ['ANC', 'SFO', 'CLT'], 6930.87336036516, -3.918965026835437)\n",
            "\n",
            "(['Anchorage', 'Chicago', 'Charlotte'], ['ANC', 'ORD', 'CLT'], 5532.96277687271, 31.51587530198377)\n",
            "\n",
            "(['Anchorage', 'Portland', 'Charlotte'], ['ANC', 'PDX', 'CLT'], 6141.210025340336, -5.536467462990215)\n",
            "\n",
            "(['Anchorage', 'Atlanta', 'Charlotte'], ['ANC', 'ATL', 'CLT'], 5852.436865225026, -3.394611922734476)\n",
            "\n",
            "(['Anchorage', 'Phoenix', 'Charlotte'], ['ANC', 'PHX', 'CLT'], 6949.65236882099, 12.248602154027722)\n",
            "\n",
            "(['Anchorage', 'Denver', 'Charlotte'], ['ANC', 'DEN', 'CLT'], 6011.30866424239, 14.560605153615494)\n",
            "\n",
            "(['Anchorage', 'Salt Lake City', 'Charlotte'], ['ANC', 'SLC', 'CLT'], 6186.543143513518, -3.9322889091562274)\n",
            "\n",
            "(['Anchorage', 'Las Vegas', 'Charlotte'], ['ANC', 'LAS', 'CLT'], 6780.055247716777, 'NO FLIGHT IN THIS ROUTE IN THE ENTERED MONTH.')\n",
            "\n",
            "(['Anchorage', 'Houston', 'Charlotte'], ['ANC', 'IAH', 'CLT'], 6715.899000653841, 34.90191328639698)\n",
            "\n",
            "(['Anchorage', 'Dallas-Fort Worth', 'Charlotte'], ['ANC', 'DFW', 'CLT'], 6392.545568159743, 43.06072300949095)\n",
            "\n",
            "(['Anchorage', 'Newark', 'Charlotte'], ['ANC', 'EWR', 'CLT'], 6259.407117010728, 21.35866746623611)\n",
            "\n",
            "\n",
            "The shortest path(based on distance) between ANC and CLT and also flight available in August is-\n",
            "(['Anchorage', 'Chicago', 'Charlotte'], ['ANC', 'ORD', 'CLT'], 5532.96277687271, 31.51587530198377)\n",
            "\n",
            "The shortest path between ANC and CLT which has least delays and also flight available in August is-\n",
            "(['Anchorage', 'Minneapolis', 'Charlotte'], ['ANC', 'MSP', 'CLT'], 5538.065085324835, -5.313390890381272)\n",
            "*****Negetive delay means filght has reached early.*****\n"
          ],
          "name": "stdout"
        }
      ]
    },
    {
      "cell_type": "code",
      "metadata": {
        "id": "KmJ-q9lWygpS",
        "colab_type": "code",
        "colab": {}
      },
      "source": [
        ""
      ],
      "execution_count": 0,
      "outputs": []
    },
    {
      "cell_type": "code",
      "metadata": {
        "id": "9sTx0pp8ygk7",
        "colab_type": "code",
        "colab": {}
      },
      "source": [
        ""
      ],
      "execution_count": 0,
      "outputs": []
    },
    {
      "cell_type": "code",
      "metadata": {
        "id": "-lOzytzGZEMK",
        "colab_type": "code",
        "colab": {}
      },
      "source": [
        ""
      ],
      "execution_count": 0,
      "outputs": []
    },
    {
      "cell_type": "code",
      "metadata": {
        "id": "2R280-rRZEJF",
        "colab_type": "code",
        "colab": {}
      },
      "source": [
        ""
      ],
      "execution_count": 0,
      "outputs": []
    },
    {
      "cell_type": "code",
      "metadata": {
        "id": "lf_j02XjZEF-",
        "colab_type": "code",
        "colab": {}
      },
      "source": [
        ""
      ],
      "execution_count": 0,
      "outputs": []
    },
    {
      "cell_type": "code",
      "metadata": {
        "id": "8xT52-ybZEC4",
        "colab_type": "code",
        "colab": {}
      },
      "source": [
        ""
      ],
      "execution_count": 0,
      "outputs": []
    },
    {
      "cell_type": "code",
      "metadata": {
        "id": "vywQlZB574CH",
        "colab_type": "code",
        "colab": {}
      },
      "source": [
        "\n",
        "#delay_count=[]\n",
        "#def get_delay_sum(get_entries_iata_copy,get_entries_airport_copy,dist_copy,month_name):\n",
        "#  for k in range(len(get_entries_iata_copy)):\n",
        " #   a_sum=0\n",
        "  #  a=0\n",
        "  #  for i in range(len(get_entries_iata_copy[k])-1):\n",
        "  #    if(len(get_entries_iata_copy)==2):\n",
        "  #      a=delay_train2.loc[(delay_train2['ORIGIN_AIRPORT']==get_entries_iata_copy[k][i]) & \n",
        "  #                         (delay_train2['DESTINATION_AIRPORT']==get_entries_iata_copy[k][i+1]) & (delay_train2['MONTH']==month_name)]['Predicted_Arrival_Delay'].min()\n",
        "  #      a_sum=a_sum+a                  \n",
        "   #   else:\n",
        "   #        a=delay_train2.loc[(delay_train2['ORIGIN_AIRPORT']==get_entries_iata_copy[k][i]) & \n",
        "    #                          (delay_train2['DESTINATION_AIRPORT']==get_entries_iata_copy[k][i+1]) & (delay_train2['MONTH']==month_name)]['Predicted_Arrival_Delay'].max() \n",
        "    #        \n",
        "     # if math.isnan(a):\n",
        "     #   get_entries_iata.remove(get_entries_iata[k])\n",
        "     #   get_entries_airport.remove(get_entries_airport[k])\n",
        "     #   dist.remove(dist_copy[k])\n",
        "     #   break\n",
        "\n",
        "      #else:\n",
        "      #  a_sum=a_sum+a\n",
        "      #  if(i==len(get_entries_iata_copy[k])-2):\n",
        "      #    delay_count.append(a_sum)\n",
        "        "
      ],
      "execution_count": 0,
      "outputs": []
    },
    {
      "cell_type": "code",
      "metadata": {
        "id": "XLv8YUSG74j2",
        "colab_type": "code",
        "colab": {}
      },
      "source": [
        "#delay_count=[]\n",
        "#get_entries_iata_copy=get_entries_iata\n",
        "#dist_copy=dist\n",
        "#get_entries_airport_copy=get_entries_airport\n",
        "#get_delay_sum(get_entries_iata_copy,get_entries_airport_copy,dist_copy,'March')#March\n",
        "#delay_count"
      ],
      "execution_count": 0,
      "outputs": []
    }
  ]
}